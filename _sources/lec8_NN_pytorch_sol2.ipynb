{
  "cells": [
    {
      "cell_type": "markdown",
      "metadata": {
        "id": "jSKukMjCech7"
      },
      "source": [
        "## Using PyTorch to build Neural Networks"
      ]
    },
    {
      "cell_type": "markdown",
      "source": [
        "In this notebook, we will leveraging the PyTorch Neural Network module (`torch.nn`)"
      ],
      "metadata": {
        "id": "q-s6w5Gtxa4m"
      }
    },
    {
      "cell_type": "code",
      "execution_count": 1,
      "metadata": {
        "id": "NXwF3LXEech8"
      },
      "outputs": [],
      "source": [
        "from IPython.display import Image as IPythonImage\n",
        "%matplotlib inline\n",
        "\n",
        "import torch\n",
        "import numpy as np\n",
        "import matplotlib.pyplot as plt"
      ]
    },
    {
      "cell_type": "code",
      "source": [
        "import torch\n",
        "\n",
        "device = torch.device(\"cuda\" if torch.cuda.is_available() else \"cpu\")\n",
        "print(device)"
      ],
      "metadata": {
        "colab": {
          "base_uri": "https://localhost:8080/"
        },
        "id": "c5jSCgpiBhdL",
        "outputId": "02a9202c-de57-4bc7-c38c-371277e44be2"
      },
      "execution_count": 2,
      "outputs": [
        {
          "output_type": "stream",
          "name": "stdout",
          "text": [
            "cuda\n"
          ]
        }
      ]
    },
    {
      "cell_type": "code",
      "source": [
        "if device.type == 'cuda':\n",
        "    print(torch.cuda.get_device_name(0))\n",
        "else:\n",
        "  print('cpu')"
      ],
      "metadata": {
        "colab": {
          "base_uri": "https://localhost:8080/"
        },
        "id": "YCDWW6lnDj3w",
        "outputId": "40602264-1dd0-4d03-fe4f-b27b42e6a875"
      },
      "execution_count": 3,
      "outputs": [
        {
          "output_type": "stream",
          "name": "stdout",
          "text": [
            "Tesla T4\n"
          ]
        }
      ]
    },
    {
      "cell_type": "markdown",
      "metadata": {
        "id": "N00JpgWYech8"
      },
      "source": [
        "### Building a linear regression model"
      ]
    },
    {
      "cell_type": "code",
      "execution_count": 4,
      "metadata": {
        "colab": {
          "base_uri": "https://localhost:8080/",
          "height": 448
        },
        "id": "BP8Qb7uNech9",
        "outputId": "e240b656-0e5f-4ccc-a6ba-5738ef9cac37"
      },
      "outputs": [
        {
          "output_type": "display_data",
          "data": {
            "text/plain": [
              "<Figure size 640x480 with 1 Axes>"
            ],
            "image/png": "[encoded data removed]"
          },
          "metadata": {}
        }
      ],
      "source": [
        "\n",
        "X_train = np.random.uniform(0, 9, size=(10, 1)).reshape(-1, 1).astype('float32')\n",
        "noise = np.random.normal(0, 0.25, size=(10, 1)).astype('float32')\n",
        "\n",
        "y_train = 1.0*X_train+noise\n",
        "\n",
        "\n",
        "plt.plot(X_train, y_train, 'o', markersize=10)\n",
        "plt.xlabel('x')\n",
        "plt.ylabel('y')\n",
        "\n",
        "plt.show()"
      ]
    },
    {
      "cell_type": "code",
      "execution_count": 5,
      "metadata": {
        "id": "gkIijSo0ech9"
      },
      "outputs": [],
      "source": [
        "from torch.utils.data import TensorDataset\n",
        "from torch.utils.data import DataLoader\n",
        "\n",
        "X_train_norm = (X_train - np.mean(X_train)) / np.std(X_train)\n",
        "X_train_norm = torch.from_numpy(X_train_norm)\n",
        "\n",
        "# On some computers the explicit cast to .float() is\n",
        "# necessary\n",
        "y_train = torch.from_numpy(y_train).float()\n",
        "\n",
        "train_ds = TensorDataset(X_train_norm, y_train)\n",
        "\n",
        "batch_size = 1\n",
        "train_dl = DataLoader(train_ds, batch_size, shuffle=True)"
      ]
    },
    {
      "cell_type": "code",
      "execution_count": 6,
      "metadata": {
        "colab": {
          "base_uri": "https://localhost:8080/"
        },
        "id": "ssyyrrUbech9",
        "outputId": "b40d9f19-b087-469d-bdeb-e7f0ac1f733d"
      },
      "outputs": [
        {
          "output_type": "stream",
          "name": "stdout",
          "text": [
            "Epoch 0  Loss 9.5583\n",
            "Epoch 10  Loss 12.7966\n",
            "Epoch 20  Loss 3.6506\n",
            "Epoch 30  Loss 8.5834\n",
            "Epoch 40  Loss 2.7614\n",
            "Epoch 50  Loss 1.6168\n",
            "Epoch 60  Loss 1.9484\n",
            "Epoch 70  Loss 0.9772\n",
            "Epoch 80  Loss 0.8479\n",
            "Epoch 90  Loss 0.4779\n",
            "Epoch 100  Loss 0.3836\n",
            "Epoch 110  Loss 0.3927\n",
            "Epoch 120  Loss 0.0268\n",
            "Epoch 130  Loss 0.0073\n",
            "Epoch 140  Loss 0.1387\n",
            "Epoch 150  Loss 0.0047\n",
            "Epoch 160  Loss 0.0887\n",
            "Epoch 170  Loss 0.0960\n",
            "Epoch 180  Loss 0.0856\n",
            "Epoch 190  Loss 0.0602\n"
          ]
        }
      ],
      "source": [
        "torch.manual_seed(1) # sets the seed to generate random numbers\n",
        "\n",
        "#------------------------------------------------------------------------------------------------\n",
        "# Initialize the weights\n",
        "weight = torch.randn(1) # argument specify shape of the tensor\n",
        "\n",
        "# The following sets the requires_grad attribute of the tensor to True;\n",
        "# PyTorch will track operations on this tensor, and gradients will be computed for it during backpropagation\n",
        "weight.requires_grad_() # You want to optimize the parameter 'weight'\n",
        "\n",
        "# Initialize the bias tensor filled with zeros with a shape of (1,), and it sets requires_grad=True\n",
        "bias = torch.zeros(1, requires_grad=True)\n",
        "\n",
        "# Try also weight = torch.randn(1, requires_grad=True)\n",
        "#------------------------------------------------------------------------------------------------\n",
        "\n",
        "\n",
        "def loss_fn(input, target):\n",
        "    return (input-target).pow(2).mean()\n",
        "\n",
        "def model(xb):\n",
        "    # The @ operator denotes matrix multiplication (see PEP 465) / more readable than torch.matmul()\n",
        "    return xb @ weight + bias\n",
        "\n",
        "learning_rate = 0.001\n",
        "num_epochs = 200\n",
        "log_epochs = 10\n",
        "\n",
        "for epoch in range(num_epochs):\n",
        "    for x_batch, y_batch in train_dl:\n",
        "        pred = model(x_batch)\n",
        "        loss = loss_fn(pred, y_batch)\n",
        "        loss.backward() # After calling loss.backward(), the gradients are computed and stored in the .grad attributes of the tensors\n",
        "\n",
        "        with torch.no_grad(): #  used to disable temporarily gradient tracking during the parameter update, memory efficiency\n",
        "            weight -= weight.grad * learning_rate\n",
        "            bias -= bias.grad * learning_rate\n",
        "\n",
        "            # Zeroing gradients after updating; essential to reset their gradients to zero for the next iteration of the training loop\n",
        "            # By default, PyTorch accumulates gradients. If you don’t zero the gradients, they will accumulate over multiple iterations (batches)\n",
        "            weight.grad.zero_()\n",
        "            bias.grad.zero_()\n",
        "\n",
        "    if epoch % log_epochs==0:\n",
        "        print(f'Epoch {epoch}  Loss {loss.item():.4f}') # item() method used to retrieve the value of a scalar tensor as a standard Python number\n"
      ]
    },
    {
      "cell_type": "code",
      "execution_count": 7,
      "metadata": {
        "colab": {
          "base_uri": "https://localhost:8080/",
          "height": 492
        },
        "id": "5Rav3rd9ech9",
        "outputId": "c74d74fe-9694-4c13-99b7-d880ac1c19dd"
      },
      "outputs": [
        {
          "output_type": "stream",
          "name": "stdout",
          "text": [
            "Final Parameters: 1.617, 3.615\n"
          ]
        },
        {
          "output_type": "display_data",
          "data": {
            "text/plain": [
              "<Figure size 1300x500 with 1 Axes>"
            ],
            "image/png": "[encoded data removed]"
          },
          "metadata": {}
        }
      ],
      "source": [
        "print(f\"Final Parameters: {weight.item():1.3f}, {bias.item():1.3f}\")\n",
        "\n",
        "X_test = np.linspace(0, 9, num=100, dtype='float32').reshape(-1, 1)\n",
        "X_test_norm = (X_test - np.mean(X_train)) / np.std(X_train)\n",
        "X_test_norm = torch.from_numpy(X_test_norm)\n",
        "y_pred = model(X_test_norm).detach().numpy()\n",
        "\n",
        "\n",
        "fig = plt.figure(figsize=(13, 5))\n",
        "ax = fig.add_subplot(1, 2, 1)\n",
        "plt.plot(X_train_norm, y_train, 'o', markersize=10)\n",
        "plt.plot(X_test_norm, y_pred, '--', lw=3)\n",
        "plt.legend(['Training examples', 'Linear Reg.'], fontsize=15)\n",
        "ax.set_xlabel('x', size=15)\n",
        "ax.set_ylabel('y', size=15)\n",
        "ax.tick_params(axis='both', which='major', labelsize=15)\n",
        "\n",
        "plt.show()"
      ]
    },
    {
      "cell_type": "markdown",
      "metadata": {
        "id": "jgKkeKESech-"
      },
      "source": [
        "**Model training via `torch.nn` and `torch.optim` modules**"
      ]
    },
    {
      "cell_type": "code",
      "execution_count": 8,
      "metadata": {
        "colab": {
          "base_uri": "https://localhost:8080/"
        },
        "id": "0G1bxjoJech-",
        "outputId": "31a67cec-29e8-444a-93c8-0018ed9574fe"
      },
      "outputs": [
        {
          "output_type": "stream",
          "name": "stdout",
          "text": [
            "Epoch 0  Loss 10.1449\n",
            "Epoch 10  Loss 19.9749\n",
            "Epoch 20  Loss 13.2688\n",
            "Epoch 30  Loss 13.8637\n",
            "Epoch 40  Loss 1.3928\n",
            "Epoch 50  Loss 0.0070\n",
            "Epoch 60  Loss 1.2209\n",
            "Epoch 70  Loss 0.9744\n",
            "Epoch 80  Loss 0.1476\n",
            "Epoch 90  Loss 0.0284\n",
            "Epoch 100  Loss 1.0836\n",
            "Epoch 110  Loss 0.7530\n",
            "Epoch 120  Loss 0.2270\n",
            "Epoch 130  Loss 0.0053\n",
            "Epoch 140  Loss 0.0016\n",
            "Epoch 150  Loss 0.0002\n",
            "Epoch 160  Loss 0.0001\n",
            "Epoch 170  Loss 0.0007\n",
            "Epoch 180  Loss 0.0783\n",
            "Epoch 190  Loss 0.0000\n"
          ]
        }
      ],
      "source": [
        "import torch.nn as nn\n",
        "\n",
        "input_size = 1\n",
        "output_size = 1\n",
        "model = nn.Linear(input_size, output_size).to(device)\n",
        "\n",
        "loss_fn = nn.MSELoss(reduction='mean')\n",
        "\n",
        "optimizer = torch.optim.SGD(model.parameters(), lr=learning_rate)\n",
        "\n",
        "for epoch in range(num_epochs):\n",
        "    for x_batch, y_batch in train_dl:\n",
        "\n",
        "        x_batch = x_batch.to(device)  # Move to GPU\n",
        "        y_batch = y_batch.to(device)  # Move to GPU\n",
        "\n",
        "        # 1. Generate predictions\n",
        "        pred = model(x_batch)[:,0]\n",
        "\n",
        "        # 2. Calculate loss\n",
        "        loss = loss_fn(pred, y_batch.view(-1))\n",
        "\n",
        "        # 3. Compute gradients\n",
        "        loss.backward()\n",
        "\n",
        "        # 4. Update parameters using gradients\n",
        "        optimizer.step()\n",
        "\n",
        "        # 5. Reset the gradients to zero\n",
        "        optimizer.zero_grad()\n",
        "\n",
        "    if epoch % log_epochs==0:\n",
        "        print(f'Epoch {epoch}  Loss {loss.item():.4f}')"
      ]
    },
    {
      "cell_type": "code",
      "execution_count": 9,
      "metadata": {
        "colab": {
          "base_uri": "https://localhost:8080/",
          "height": 492
        },
        "id": "GkpfZquaech-",
        "outputId": "741ab26b-ea17-4b87-aaf5-87415328625c"
      },
      "outputs": [
        {
          "output_type": "stream",
          "name": "stdout",
          "text": [
            "Final Parameters:, 1.7936, 4.7006\n"
          ]
        },
        {
          "output_type": "display_data",
          "data": {
            "text/plain": [
              "<Figure size 1300x500 with 1 Axes>"
            ],
            "image/png": "[encoded data removed]"
          },
          "metadata": {}
        }
      ],
      "source": [
        "print(f\"Final Parameters:, {model.weight.item():1.4f}, {model.bias.item():1.4f}\")\n",
        "\n",
        "X_test = np.linspace(0, 9, num=100, dtype='float32').reshape(-1, 1)\n",
        "X_test_norm = (X_test - np.mean(X_train)) / np.std(X_train)\n",
        "X_test_norm = torch.from_numpy(X_test_norm)\n",
        "y_pred = model(X_test_norm.to(device)).detach() #  detach() creates a new tensor deached from the computation graph; it shares the same data as the original tensor but does not require gradients\n",
        "\n",
        "\n",
        "\n",
        "if(device.type == 'cuda'):\n",
        "\n",
        "  # Move the test data and predictions to CPU for plotting\n",
        "  X_test_norm = X_test_norm.cpu().numpy()  # Move to CPU\n",
        "  y_pred = y_pred.cpu().numpy()  # Move to CPU\n",
        "\n",
        "else:\n",
        "  X_test_norm = X_test_norm.detach().numpy()\n",
        "  y_pred = y_pred.detach().numpy()\n",
        "\n",
        "\n",
        "\n",
        "fig = plt.figure(figsize=(13, 5))\n",
        "ax = fig.add_subplot(1, 2, 1)\n",
        "plt.plot(X_train_norm.detach().numpy(), y_train.detach().numpy(), 'o', markersize=10)\n",
        "plt.plot(X_test_norm, y_pred, '--', lw=3)\n",
        "plt.legend(['Training examples', 'Linear reg.'], fontsize=15)\n",
        "ax.set_xlabel('x', size=15)\n",
        "ax.set_ylabel('y', size=15)\n",
        "ax.tick_params(axis='both', which='major', labelsize=15)\n",
        "\n",
        "\n",
        "plt.show()\n"
      ]
    },
    {
      "cell_type": "markdown",
      "source": [
        "\n",
        "\n",
        "---\n",
        "\n"
      ],
      "metadata": {
        "id": "ELs5kktVfbmR"
      }
    },
    {
      "cell_type": "markdown",
      "source": [
        "### Exercise: train a regression model for the following polynomial *dataset*"
      ],
      "metadata": {
        "id": "mF-uLigkfbq3"
      }
    },
    {
      "cell_type": "code",
      "source": [
        "X_train = np.random.uniform(0, 9, size=(20, 1)).reshape(-1, 1).astype('float32')\n",
        "noise = np.random.normal(0, 2., size=(20, 1)).astype('float32')\n",
        "\n",
        "b = 5\n",
        "a1 = 1.0\n",
        "a2 = -1.5\n",
        "\n",
        "y_train =  b + a1*X_train + a2*X_train**2 + noise\n",
        "\n",
        "\n",
        "plt.plot(X_train, y_train, 'o', markersize=10)\n",
        "plt.xlabel('x')\n",
        "plt.ylabel('y')\n",
        "\n",
        "plt.show()\n",
        "\n",
        "print(np.shape(X_train), np.shape(y_train))"
      ],
      "metadata": {
        "colab": {
          "base_uri": "https://localhost:8080/",
          "height": 464
        },
        "id": "NTz_29kt1Nno",
        "outputId": "e188684c-30b1-42b3-cfd1-1d9c7c24892b"
      },
      "execution_count": 13,
      "outputs": [
        {
          "output_type": "display_data",
          "data": {
            "text/plain": [
              "<Figure size 640x480 with 1 Axes>"
            ],
            "image/png": "[encoded data removed]"
          },
          "metadata": {}
        },
        {
          "output_type": "stream",
          "name": "stdout",
          "text": [
            "(20, 1) (20, 1)\n"
          ]
        }
      ]
    },
    {
      "cell_type": "code",
      "source": [
        "### Augment training dataset\n",
        "\n",
        "# Create the squared feature\n",
        "X_train_squared = X_train ** 2\n",
        "\n",
        "# Concatenate the original and squared features\n",
        "X_train_augmented = np.concatenate((X_train, X_train_squared), axis=1)\n",
        "\n",
        "\n",
        "#print(np.shape(X_train), np.shape(X_train_augmented), np.shape(y_train))\n",
        "#print(type(X_train_augmented), type(y_train))\n",
        "\n",
        "#print(X_train_augmented)\n",
        "#print(y_train)"
      ],
      "metadata": {
        "id": "Ss8mjhPP25tO"
      },
      "execution_count": 14,
      "outputs": []
    },
    {
      "cell_type": "code",
      "source": [
        "# Normalize each feature independently\n",
        "mean_poly = np.mean(X_train_augmented, axis=0)\n",
        "std_poly = np.std(X_train_augmented, axis=0)\n",
        "\n",
        "print(np.shape(mean_poly), np.shape(std_poly))\n",
        "\n",
        "X_train_norm = (X_train_augmented - mean_poly) / std_poly\n",
        "X_train_norm = torch.from_numpy(X_train_norm)  # Convert to PyTorch tensor\n",
        "\n",
        "print(np.shape(X_train_norm), np.shape(y_train))\n",
        "print(type(X_train_norm), type(y_train))\n",
        "\n",
        "# On some computers the explicit cast to .float() is\n",
        "# necessary\n",
        "y_train = torch.from_numpy(y_train).float()\n",
        "\n",
        "train_ds = TensorDataset(X_train_norm, y_train)\n",
        "\n",
        "batch_size = 1\n",
        "train_dl = DataLoader(train_ds, batch_size, shuffle=True)\n"
      ],
      "metadata": {
        "colab": {
          "base_uri": "https://localhost:8080/"
        },
        "id": "_9SlmYTe2bQW",
        "outputId": "233ca8bd-f5ec-4fd6-a043-8c1675ba5fff"
      },
      "execution_count": 15,
      "outputs": [
        {
          "output_type": "stream",
          "name": "stdout",
          "text": [
            "(2,) (2,)\n",
            "torch.Size([20, 2]) (20, 1)\n",
            "<class 'torch.Tensor'> <class 'numpy.ndarray'>\n"
          ]
        }
      ]
    },
    {
      "cell_type": "code",
      "source": [
        "num_epochs = 1000\n",
        "learning_rate = 0.005\n",
        "\n",
        "input_size = 2\n",
        "output_size = 1\n",
        "model_poly = nn.Linear(input_size, output_size)\n",
        "\n",
        "loss_fn = nn.MSELoss(reduction='mean')\n",
        "\n",
        "optimizer = torch.optim.SGD(model_poly.parameters(), lr=learning_rate)\n",
        "\n",
        "for epoch in range(num_epochs):\n",
        "    for x_batch, y_batch in train_dl:\n",
        "        # 1. Generate predictions\n",
        "        pred = model_poly(x_batch)\n",
        "\n",
        "        # 2. Calculate loss\n",
        "        loss = loss_fn(pred, y_batch)\n",
        "\n",
        "        # 3. Compute gradients\n",
        "        loss.backward()\n",
        "\n",
        "        # 4. Update parameters using gradients\n",
        "        optimizer.step()\n",
        "\n",
        "        # 5. Reset the gradients to zero\n",
        "        optimizer.zero_grad()\n",
        "\n",
        "    if epoch % log_epochs==0:\n",
        "        print(f'Epoch {epoch}  Loss {loss.item():.4f}')"
      ],
      "metadata": {
        "colab": {
          "base_uri": "https://localhost:8080/"
        },
        "id": "A9CeL2qb2Q_1",
        "outputId": "c955b615-bb30-4b1a-e231-f8c63b5a3038"
      },
      "execution_count": 16,
      "outputs": [
        {
          "output_type": "stream",
          "name": "stdout",
          "text": [
            "Epoch 0  Loss 32.6632\n",
            "Epoch 10  Loss 21.3791\n",
            "Epoch 20  Loss 12.2827\n",
            "Epoch 30  Loss 14.2199\n",
            "Epoch 40  Loss 2.7825\n",
            "Epoch 50  Loss 1.9159\n",
            "Epoch 60  Loss 4.0776\n",
            "Epoch 70  Loss 1.5430\n",
            "Epoch 80  Loss 5.6205\n",
            "Epoch 90  Loss 1.1090\n",
            "Epoch 100  Loss 1.4345\n",
            "Epoch 110  Loss 0.6745\n",
            "Epoch 120  Loss 0.9173\n",
            "Epoch 130  Loss 6.0047\n",
            "Epoch 140  Loss 0.2339\n",
            "Epoch 150  Loss 5.2286\n",
            "Epoch 160  Loss 8.5513\n",
            "Epoch 170  Loss 0.1107\n",
            "Epoch 180  Loss 0.5295\n",
            "Epoch 190  Loss 4.2979\n",
            "Epoch 200  Loss 0.2902\n",
            "Epoch 210  Loss 0.0037\n",
            "Epoch 220  Loss 1.0230\n",
            "Epoch 230  Loss 11.6687\n",
            "Epoch 240  Loss 1.2393\n",
            "Epoch 250  Loss 5.7212\n",
            "Epoch 260  Loss 0.0315\n",
            "Epoch 270  Loss 5.3659\n",
            "Epoch 280  Loss 1.8254\n",
            "Epoch 290  Loss 0.3921\n",
            "Epoch 300  Loss 1.7461\n",
            "Epoch 310  Loss 0.3447\n",
            "Epoch 320  Loss 0.0131\n",
            "Epoch 330  Loss 2.5676\n",
            "Epoch 340  Loss 0.8876\n",
            "Epoch 350  Loss 2.3693\n",
            "Epoch 360  Loss 13.3046\n",
            "Epoch 370  Loss 1.0644\n",
            "Epoch 380  Loss 3.2778\n",
            "Epoch 390  Loss 1.1224\n",
            "Epoch 400  Loss 0.2113\n",
            "Epoch 410  Loss 3.8464\n",
            "Epoch 420  Loss 0.2942\n",
            "Epoch 430  Loss 2.0957\n",
            "Epoch 440  Loss 3.1977\n",
            "Epoch 450  Loss 0.1748\n",
            "Epoch 460  Loss 0.1572\n",
            "Epoch 470  Loss 0.3085\n",
            "Epoch 480  Loss 0.2015\n",
            "Epoch 490  Loss 0.7832\n",
            "Epoch 500  Loss 15.2628\n",
            "Epoch 510  Loss 0.7093\n",
            "Epoch 520  Loss 0.2744\n",
            "Epoch 530  Loss 2.5628\n",
            "Epoch 540  Loss 3.6625\n",
            "Epoch 550  Loss 3.0989\n",
            "Epoch 560  Loss 15.4109\n",
            "Epoch 570  Loss 3.0608\n",
            "Epoch 580  Loss 3.1260\n",
            "Epoch 590  Loss 3.7288\n",
            "Epoch 600  Loss 1.5427\n",
            "Epoch 610  Loss 2.0046\n",
            "Epoch 620  Loss 0.3220\n",
            "Epoch 630  Loss 2.0005\n",
            "Epoch 640  Loss 1.5980\n",
            "Epoch 650  Loss 0.3075\n",
            "Epoch 660  Loss 1.8195\n",
            "Epoch 670  Loss 0.3797\n",
            "Epoch 680  Loss 2.9729\n",
            "Epoch 690  Loss 1.5089\n",
            "Epoch 700  Loss 1.8321\n",
            "Epoch 710  Loss 0.1124\n",
            "Epoch 720  Loss 2.9207\n",
            "Epoch 730  Loss 0.0792\n",
            "Epoch 740  Loss 0.2893\n",
            "Epoch 750  Loss 3.4055\n",
            "Epoch 760  Loss 3.5630\n",
            "Epoch 770  Loss 1.7559\n",
            "Epoch 780  Loss 6.8304\n",
            "Epoch 790  Loss 6.8233\n",
            "Epoch 800  Loss 0.3230\n",
            "Epoch 810  Loss 1.6340\n",
            "Epoch 820  Loss 1.5515\n",
            "Epoch 830  Loss 2.6084\n",
            "Epoch 840  Loss 0.3356\n",
            "Epoch 850  Loss 3.4277\n",
            "Epoch 860  Loss 3.7376\n",
            "Epoch 870  Loss 6.8584\n",
            "Epoch 880  Loss 0.5519\n",
            "Epoch 890  Loss 0.4942\n",
            "Epoch 900  Loss 1.6023\n",
            "Epoch 910  Loss 1.6310\n",
            "Epoch 920  Loss 12.2862\n",
            "Epoch 930  Loss 2.5923\n",
            "Epoch 940  Loss 1.6127\n",
            "Epoch 950  Loss 1.8292\n",
            "Epoch 960  Loss 0.2807\n",
            "Epoch 970  Loss 0.5137\n",
            "Epoch 980  Loss 1.7905\n",
            "Epoch 990  Loss 15.5968\n"
          ]
        }
      ]
    },
    {
      "cell_type": "code",
      "source": [
        "print(next(model_poly.parameters()).device)"
      ],
      "metadata": {
        "colab": {
          "base_uri": "https://localhost:8080/"
        },
        "id": "nQvNFcbCF5Bl",
        "outputId": "1810f283-9070-43b5-d0ff-2a98213190ab"
      },
      "execution_count": 18,
      "outputs": [
        {
          "output_type": "stream",
          "name": "stdout",
          "text": [
            "cpu\n"
          ]
        }
      ]
    },
    {
      "cell_type": "code",
      "source": [
        "print(f\"Final Parameters:, {model.weight.item():1.4f}, {model.bias.item():1.4f}\")\n",
        "\n",
        "X_test = np.linspace(0, 9, num=1000, dtype='float32').reshape(-1, 1)\n",
        "\n",
        "# Create the squared feature\n",
        "X_test_squared = X_test ** 2\n",
        "\n",
        "# Concatenate the original and squared features\n",
        "X_test_augmented = np.concatenate((X_test, X_test_squared), axis=1)\n",
        "\n",
        "X_test_norm = (X_test_augmented - mean_poly) / std_poly\n",
        "X_test_norm = torch.from_numpy(X_test_norm)\n",
        "y_test_pred = model_poly(X_test_norm).detach() #  detach() creates a new tensor deached from the computation graph; it shares the same data as the original tensor but does not require gradients\n",
        "\n",
        "\n",
        "fig = plt.figure(figsize=(13, 5))\n",
        "ax = fig.add_subplot(1, 1, 1)\n",
        "plt.plot(X_train_norm.detach()[:,0].numpy(), y_train.detach().numpy(), 'o', markersize=10)\n",
        "plt.plot(X_test_norm.detach()[:,0].numpy(), y_test_pred.detach().numpy(), '--', lw=3)\n",
        "plt.legend(['Training examples', 'test curve'], fontsize=15)\n",
        "ax.set_xlabel('x', size=15)\n",
        "ax.set_ylabel('y', size=15)\n",
        "ax.tick_params(axis='both', which='major', labelsize=15)\n",
        "\n",
        "\n",
        "plt.show()\n",
        "\n",
        "print(np.shape(X_test_norm), np.shape(y_test_pred))\n"
      ],
      "metadata": {
        "colab": {
          "base_uri": "https://localhost:8080/",
          "height": 509
        },
        "id": "KBc9pb4u6PA_",
        "outputId": "72e96984-8f3d-4d70-f0dc-8780f761f3f6"
      },
      "execution_count": 17,
      "outputs": [
        {
          "output_type": "stream",
          "name": "stdout",
          "text": [
            "Final Parameters:, 1.5969, 3.6132\n"
          ]
        },
        {
          "output_type": "display_data",
          "data": {
            "text/plain": [
              "<Figure size 1300x500 with 1 Axes>"
            ],
            "image/png": "[encoded data removed]"
          },
          "metadata": {}
        },
        {
          "output_type": "stream",
          "name": "stdout",
          "text": [
            "torch.Size([1000, 2]) torch.Size([1000, 1])\n"
          ]
        }
      ]
    },
    {
      "cell_type": "markdown",
      "source": [
        "\n",
        "\n",
        "---\n",
        "\n"
      ],
      "metadata": {
        "id": "0fEQ5uzwfb3_"
      }
    },
    {
      "cell_type": "markdown",
      "metadata": {
        "id": "JTGQU5Dzech-"
      },
      "source": [
        "### Building an MLP for Classification"
      ]
    },
    {
      "cell_type": "code",
      "execution_count": 19,
      "metadata": {
        "id": "tDP3exs1ech_"
      },
      "outputs": [],
      "source": [
        "from sklearn.datasets import load_iris\n",
        "from sklearn.model_selection import train_test_split\n",
        "\n",
        "iris = load_iris()\n",
        "X = iris['data']\n",
        "y = iris['target']\n",
        "\n",
        "X_train, X_test, y_train, y_test = train_test_split(\n",
        "    X, y, test_size=1./3, random_state=1)"
      ]
    },
    {
      "cell_type": "code",
      "execution_count": 20,
      "metadata": {
        "id": "4DZGiRylech_"
      },
      "outputs": [],
      "source": [
        "from torch.utils.data import TensorDataset\n",
        "from torch.utils.data import DataLoader\n",
        "\n",
        "X_train_norm = (X_train - np.mean(X_train)) / np.std(X_train)\n",
        "X_train_norm = torch.from_numpy(X_train_norm).float()\n",
        "y_train = torch.from_numpy(y_train)\n",
        "\n",
        "train_ds = TensorDataset(X_train_norm, y_train)\n",
        "\n",
        "torch.manual_seed(1)\n",
        "batch_size = 2\n",
        "train_dl = DataLoader(train_ds, batch_size, shuffle=True)"
      ]
    },
    {
      "cell_type": "code",
      "execution_count": 21,
      "metadata": {
        "id": "oJiJoFDnech_"
      },
      "outputs": [],
      "source": [
        "# For a list of all available layers http://pytorch.org/docs/stable/nn.html\n",
        "\n",
        "\n",
        "class Model(nn.Module):\n",
        "    def __init__(self, input_size, hidden_size, output_size):\n",
        "        super().__init__()\n",
        "        self.layer1 = nn.Linear(input_size, hidden_size)\n",
        "        self.layer2 = nn.Linear(hidden_size, output_size)\n",
        "\n",
        "    def forward(self, x):\n",
        "        x = self.layer1(x)\n",
        "        x = nn.Sigmoid()(x)\n",
        "        x = self.layer2(x)\n",
        "        x = nn.Softmax(dim=1)(x)\n",
        "        return x\n",
        "\n",
        "input_size = X_train_norm.shape[1]\n",
        "hidden_size = 16\n",
        "output_size = 3\n",
        "\n",
        "model = Model(input_size, hidden_size, output_size).to(device)  # Move model to GPU\n",
        "\n",
        "\n",
        "learning_rate = 0.001\n",
        "\n",
        "loss_fn = nn.CrossEntropyLoss()\n",
        "# https://pytorch.org/docs/stable/generated/torch.nn.CrossEntropyLoss.html\n",
        "\n",
        "# Adam -Adaptive Moment Estimation- optimizer:\n",
        "# It combines the benefits of AdaGrad and RMSProp\n",
        "# More details can be found in https://github.com/cfteach/ml4hep/blob/main/gradient/gradient_descent.ipynb\n",
        "optimizer = torch.optim.Adam(model.parameters(), lr=learning_rate)\n"
      ]
    },
    {
      "cell_type": "code",
      "execution_count": 22,
      "metadata": {
        "id": "KnMPMrhMech_"
      },
      "outputs": [],
      "source": [
        "num_epochs = 100\n",
        "loss_hist = [0] * num_epochs\n",
        "accuracy_hist = [0] * num_epochs\n",
        "\n",
        "\n",
        "for epoch in range(num_epochs):\n",
        "\n",
        "    for x_batch, y_batch in train_dl:\n",
        "\n",
        "        # Move batch to GPU\n",
        "        x_batch = x_batch.to(device)\n",
        "        y_batch = y_batch.to(device)\n",
        "\n",
        "        pred = model(x_batch)\n",
        "        loss = loss_fn(pred, y_batch.long())\n",
        "        loss.backward()\n",
        "        optimizer.step()\n",
        "        optimizer.zero_grad()\n",
        "\n",
        "        loss_hist[epoch] += loss.item()*y_batch.size(0)\n",
        "        is_correct = (torch.argmax(pred, dim=1) == y_batch).float()\n",
        "        accuracy_hist[epoch] += is_correct.sum()\n",
        "\n",
        "    loss_hist[epoch] /= len(train_dl.dataset)\n",
        "    accuracy_hist[epoch] /= len(train_dl.dataset)\n",
        "\n",
        "\n"
      ]
    },
    {
      "cell_type": "code",
      "execution_count": 27,
      "metadata": {
        "colab": {
          "base_uri": "https://localhost:8080/",
          "height": 507
        },
        "id": "KsYSJVsgech_",
        "outputId": "70cd2763-c713-4c56-ae7a-5461c204a033"
      },
      "outputs": [
        {
          "output_type": "display_data",
          "data": {
            "text/plain": [
              "<Figure size 1200x500 with 2 Axes>"
            ],
            "image/png": "[encoded data removed]"
          },
          "metadata": {}
        }
      ],
      "source": [
        "\n",
        "\n",
        "if device.type == 'cuda':\n",
        "  accuracy_hist = [acc.cpu() for acc in accuracy_hist]\n",
        "\n",
        "\n",
        "\n",
        "fig = plt.figure(figsize=(12, 5))\n",
        "ax = fig.add_subplot(1, 2, 1)\n",
        "ax.plot(loss_hist, lw=3)\n",
        "ax.set_title('Training loss', size=15)\n",
        "ax.set_xlabel('Epoch', size=15)\n",
        "ax.tick_params(axis='both', which='major', labelsize=15)\n",
        "\n",
        "ax = fig.add_subplot(1, 2, 2)\n",
        "ax.plot(accuracy_hist, lw=3)\n",
        "ax.set_title('Training accuracy', size=15)\n",
        "ax.set_xlabel('Epoch', size=15)\n",
        "ax.tick_params(axis='both', which='major', labelsize=15)\n",
        "plt.tight_layout()\n",
        "\n",
        "plt.show()\n"
      ]
    },
    {
      "cell_type": "markdown",
      "metadata": {
        "id": "WOZ6LS5Hech_"
      },
      "source": [
        "**Accuracy for test dataset**"
      ]
    },
    {
      "cell_type": "code",
      "source": [
        "# Normalize X_test\n",
        "X_test_norm = (X_test - np.mean(X_train)) / np.std(X_train)\n",
        "X_test_norm = torch.from_numpy(X_test_norm).float().to(device)  # Move to device\n",
        "\n",
        "# Check if y_test is already a tensor and move it to the device\n",
        "if isinstance(y_test, torch.Tensor):\n",
        "    y_test = y_test.to(device)  # Move to device\n",
        "else:\n",
        "    y_test = torch.from_numpy(y_test).float().to(device)  # Convert from numpy if not already a tensor\n",
        "\n",
        "# Make predictions\n",
        "pred_test = model(X_test_norm)\n",
        "\n",
        "# Move pred_test to CPU if necessary for processing, but ensure both are on the same device\n",
        "if device.type == 'cuda':\n",
        "    pred_test = pred_test.cpu()  # Move predictions to CPU\n",
        "\n",
        "# Make sure y_test is on the same device as pred_test\n",
        "if y_test.device != pred_test.device:\n",
        "    y_test = y_test.cpu()  # Move y_test to CPU if needed\n",
        "\n",
        "# Calculate accuracy\n",
        "correct = (torch.argmax(pred_test, dim=1) == y_test).float()\n",
        "accuracy = correct.mean()\n",
        "\n",
        "print(f'Test Acc.: {accuracy:.4f}')\n"
      ],
      "metadata": {
        "colab": {
          "base_uri": "https://localhost:8080/"
        },
        "id": "i-dtCCRgICI4",
        "outputId": "806c49c4-0638-4db3-ba8d-13c6b4854143"
      },
      "execution_count": 36,
      "outputs": [
        {
          "output_type": "stream",
          "name": "stdout",
          "text": [
            "Test Acc.: 0.9800\n"
          ]
        }
      ]
    },
    {
      "cell_type": "markdown",
      "metadata": {
        "id": "ikwQOhmTech_"
      },
      "source": [
        "### Saving and reloading the trained model"
      ]
    },
    {
      "cell_type": "code",
      "execution_count": null,
      "metadata": {
        "id": "Kum5ugdnech_"
      },
      "outputs": [],
      "source": [
        "path = 'iris_classifier.pt'\n",
        "torch.save(model, path)"
      ]
    },
    {
      "cell_type": "code",
      "execution_count": null,
      "metadata": {
        "colab": {
          "base_uri": "https://localhost:8080/"
        },
        "id": "-ea6V_YBeciA",
        "outputId": "00572301-6703-461d-9372-b8296016f643"
      },
      "outputs": [
        {
          "output_type": "stream",
          "name": "stderr",
          "text": [
            "<ipython-input-68-ddbeb3503457>:1: FutureWarning: You are using `torch.load` with `weights_only=False` (the current default value), which uses the default pickle module implicitly. It is possible to construct malicious pickle data which will execute arbitrary code during unpickling (See https://github.com/pytorch/pytorch/blob/main/SECURITY.md#untrusted-models for more details). In a future release, the default value for `weights_only` will be flipped to `True`. This limits the functions that could be executed during unpickling. Arbitrary objects will no longer be allowed to be loaded via this mode unless they are explicitly allowlisted by the user via `torch.serialization.add_safe_globals`. We recommend you start setting `weights_only=True` for any use case where you don't have full control of the loaded file. Please open an issue on GitHub for any issues related to this experimental feature.\n",
            "  model_new = torch.load(path)\n"
          ]
        },
        {
          "output_type": "execute_result",
          "data": {
            "text/plain": [
              "Model(\n",
              "  (layer1): Linear(in_features=4, out_features=16, bias=True)\n",
              "  (layer2): Linear(in_features=16, out_features=3, bias=True)\n",
              ")"
            ]
          },
          "metadata": {},
          "execution_count": 68
        }
      ],
      "source": [
        "model_new = torch.load(path)\n",
        "model_new.eval()"
      ]
    },
    {
      "cell_type": "code",
      "execution_count": null,
      "metadata": {
        "colab": {
          "base_uri": "https://localhost:8080/"
        },
        "id": "3CBIFDoteciA",
        "outputId": "664ee6a4-c096-4f61-aa29-26c6568d1e83"
      },
      "outputs": [
        {
          "output_type": "stream",
          "name": "stdout",
          "text": [
            "Test Acc.: 0.9800\n"
          ]
        }
      ],
      "source": [
        "pred_test = model_new(X_test_norm)\n",
        "\n",
        "correct = (torch.argmax(pred_test, dim=1) == y_test).float()\n",
        "accuracy = correct.mean()\n",
        "\n",
        "print(f'Test Acc.: {accuracy:.4f}')"
      ]
    },
    {
      "cell_type": "code",
      "execution_count": null,
      "metadata": {
        "id": "r-n36eQbeciA"
      },
      "outputs": [],
      "source": [
        "#if you want to save only the learned parameters\n",
        "\n",
        "path = 'iris_classifier_state.pt'\n",
        "torch.save(model.state_dict(), path)"
      ]
    },
    {
      "cell_type": "code",
      "execution_count": null,
      "metadata": {
        "colab": {
          "base_uri": "https://localhost:8080/"
        },
        "id": "7gg-ysZEeciA",
        "outputId": "0258e605-dc92-4075-a42e-356e5c6b1662"
      },
      "outputs": [
        {
          "output_type": "stream",
          "name": "stderr",
          "text": [
            "<ipython-input-71-b21dbd0d4824>:2: FutureWarning: You are using `torch.load` with `weights_only=False` (the current default value), which uses the default pickle module implicitly. It is possible to construct malicious pickle data which will execute arbitrary code during unpickling (See https://github.com/pytorch/pytorch/blob/main/SECURITY.md#untrusted-models for more details). In a future release, the default value for `weights_only` will be flipped to `True`. This limits the functions that could be executed during unpickling. Arbitrary objects will no longer be allowed to be loaded via this mode unless they are explicitly allowlisted by the user via `torch.serialization.add_safe_globals`. We recommend you start setting `weights_only=True` for any use case where you don't have full control of the loaded file. Please open an issue on GitHub for any issues related to this experimental feature.\n",
            "  model_new.load_state_dict(torch.load(path))\n"
          ]
        },
        {
          "output_type": "execute_result",
          "data": {
            "text/plain": [
              "<All keys matched successfully>"
            ]
          },
          "metadata": {},
          "execution_count": 71
        }
      ],
      "source": [
        "model_new = Model(input_size, hidden_size, output_size)\n",
        "model_new.load_state_dict(torch.load(path))\n"
      ]
    },
    {
      "cell_type": "code",
      "source": [
        "pred_test = model_new(X_test_norm)\n",
        "\n",
        "correct = (torch.argmax(pred_test, dim=1) == y_test).float()\n",
        "accuracy = correct.mean()\n",
        "\n",
        "print(f'Test Acc.: {accuracy:.4f}')"
      ],
      "metadata": {
        "colab": {
          "base_uri": "https://localhost:8080/"
        },
        "id": "VO_Mhecwrz0Y",
        "outputId": "c12e8d69-afaa-4a8b-e49d-fd9f303c6e41"
      },
      "execution_count": null,
      "outputs": [
        {
          "output_type": "stream",
          "name": "stdout",
          "text": [
            "Test Acc.: 0.9800\n"
          ]
        }
      ]
    },
    {
      "cell_type": "markdown",
      "source": [
        "\n",
        "\n",
        "---\n",
        "\n"
      ],
      "metadata": {
        "id": "VIw289-kkQvf"
      }
    },
    {
      "cell_type": "markdown",
      "source": [
        "### Exercise: train a classification model with 2 (or more) hidden layers"
      ],
      "metadata": {
        "id": "c1vvYZI3kQ3P"
      }
    },
    {
      "cell_type": "code",
      "source": [
        "# For a list of all available layers http://pytorch.org/docs/stable/nn.html\n",
        "\n",
        "\n",
        "class Model2(nn.Module):\n",
        "    def __init__(self, input_size, hidden_size1, hidden_size2, output_size):\n",
        "        super().__init__()\n",
        "        self.layer1 = nn.Linear(input_size, hidden_size)\n",
        "        self.layer2 = nn.Linear(hidden_size1, hidden_size2)\n",
        "        self.layer3 = nn.Linear(hidden_size2, output_size)\n",
        "\n",
        "    def forward(self, x):\n",
        "        x = self.layer1(x)\n",
        "        x = nn.Sigmoid()(x)\n",
        "        x = self.layer2(x)\n",
        "        x = nn.Sigmoid()(x)\n",
        "        x = self.layer3(x)\n",
        "        x = nn.Softmax(dim=1)(x)\n",
        "        return x\n",
        "\n",
        "input_size = X_train_norm.shape[1]\n",
        "hidden_size1 = 16\n",
        "hidden_size2 = 8\n",
        "output_size = 3\n",
        "\n",
        "model2 = Model2(input_size, hidden_size1, hidden_size2, output_size)\n",
        "\n",
        "learning_rate = 0.001\n",
        "\n",
        "loss_fn = nn.CrossEntropyLoss()\n",
        "# https://pytorch.org/docs/stable/generated/torch.nn.CrossEntropyLoss.html\n",
        "\n",
        "# Adam -Adaptive Moment Estimation- optimizer:\n",
        "# It combines the benefits of AdaGrad and RMSProp\n",
        "# More details can be found in https://github.com/cfteach/ml4hep/blob/main/gradient/gradient_descent.ipynb\n",
        "optimizer = torch.optim.Adam(model2.parameters(), lr=learning_rate)\n"
      ],
      "metadata": {
        "id": "JaAMEO7Qosul"
      },
      "execution_count": null,
      "outputs": []
    },
    {
      "cell_type": "code",
      "source": [
        "num_epochs = 100\n",
        "loss_hist2 = [0] * num_epochs\n",
        "accuracy_hist2 = [0] * num_epochs\n",
        "accuracy_test_hist2 = [0] * num_epochs\n",
        "\n",
        "\n",
        "for epoch in range(num_epochs):\n",
        "\n",
        "    for x_batch, y_batch in train_dl:\n",
        "        pred = model2(x_batch)\n",
        "        loss = loss_fn(pred, y_batch.long())\n",
        "        loss.backward()\n",
        "        optimizer.step()\n",
        "        optimizer.zero_grad()\n",
        "\n",
        "        loss_hist2[epoch] += loss.item()*y_batch.size(0)  # item() method used to retrieve the value of a scalar tensor as a standard Python number\n",
        "        is_correct = (torch.argmax(pred, dim=1) == y_batch).float()\n",
        "        accuracy_hist2[epoch] += is_correct.sum()\n",
        "\n",
        "    pred_test = model2(X_test_norm)\n",
        "    is_correct_test = (torch.argmax(pred_test, dim=1) == y_test).float()\n",
        "    accuracy_test_hist2[epoch] = is_correct_test.sum()/len(X_test)\n",
        "\n",
        "    loss_hist2[epoch] /= len(train_dl.dataset)\n",
        "    accuracy_hist2[epoch] /= len(train_dl.dataset)\n",
        "\n"
      ],
      "metadata": {
        "id": "jayvBheApE_s"
      },
      "execution_count": null,
      "outputs": []
    },
    {
      "cell_type": "code",
      "source": [
        "fig = plt.figure(figsize=(12, 5))\n",
        "ax = fig.add_subplot(1, 2, 1)\n",
        "ax.plot(loss_hist, lw=3)\n",
        "ax.set_title('Training loss', size=15)\n",
        "ax.set_xlabel('Epoch', size=15)\n",
        "ax.tick_params(axis='both', which='major', labelsize=15)\n",
        "\n",
        "ax.plot(loss_hist2, lw=3)\n",
        "\n",
        "\n",
        "ax = fig.add_subplot(1, 2, 2)\n",
        "ax.plot(accuracy_hist, lw=3)\n",
        "ax.set_title('Training accuracy', size=15)\n",
        "ax.set_xlabel('Epoch', size=15)\n",
        "ax.tick_params(axis='both', which='major', labelsize=15)\n",
        "\n",
        "ax.plot(accuracy_hist2, lw=3)\n",
        "ax.plot(accuracy_test_hist2, lw=3)\n",
        "\n",
        "plt.tight_layout()\n",
        "\n",
        "#plt.savefig('figures/12_09.pdf')\n",
        "\n",
        "plt.show()"
      ],
      "metadata": {
        "colab": {
          "base_uri": "https://localhost:8080/",
          "height": 507
        },
        "id": "Qs7fuGucpQfT",
        "outputId": "94dde876-baa3-4820-d4e2-4ce90d9c5d67"
      },
      "execution_count": null,
      "outputs": [
        {
          "output_type": "display_data",
          "data": {
            "text/plain": [
              "<Figure size 1200x500 with 2 Axes>"
            ],
            "image/png": "[encoded data removed]"
          },
          "metadata": {}
        }
      ]
    },
    {
      "cell_type": "code",
      "source": [
        "path2 = 'iris_classifier2.pt'\n",
        "torch.save(model2, path2)\n",
        "\n",
        "model_new2 = torch.load(path2)\n",
        "model_new2.eval()\n"
      ],
      "metadata": {
        "colab": {
          "base_uri": "https://localhost:8080/"
        },
        "id": "aLRqTbPwqKqk",
        "outputId": "e5e18060-cd4e-4bed-dda9-fae545712d46"
      },
      "execution_count": null,
      "outputs": [
        {
          "output_type": "stream",
          "name": "stderr",
          "text": [
            "<ipython-input-94-c7c89b18bad7>:4: FutureWarning: You are using `torch.load` with `weights_only=False` (the current default value), which uses the default pickle module implicitly. It is possible to construct malicious pickle data which will execute arbitrary code during unpickling (See https://github.com/pytorch/pytorch/blob/main/SECURITY.md#untrusted-models for more details). In a future release, the default value for `weights_only` will be flipped to `True`. This limits the functions that could be executed during unpickling. Arbitrary objects will no longer be allowed to be loaded via this mode unless they are explicitly allowlisted by the user via `torch.serialization.add_safe_globals`. We recommend you start setting `weights_only=True` for any use case where you don't have full control of the loaded file. Please open an issue on GitHub for any issues related to this experimental feature.\n",
            "  model_new2 = torch.load(path2)\n"
          ]
        },
        {
          "output_type": "execute_result",
          "data": {
            "text/plain": [
              "Model2(\n",
              "  (layer1): Linear(in_features=4, out_features=16, bias=True)\n",
              "  (layer2): Linear(in_features=16, out_features=8, bias=True)\n",
              "  (layer3): Linear(in_features=8, out_features=3, bias=True)\n",
              ")"
            ]
          },
          "metadata": {},
          "execution_count": 94
        }
      ]
    },
    {
      "cell_type": "code",
      "source": [
        "pred_test = model_new(X_test_norm)\n",
        "\n",
        "correct = (torch.argmax(pred_test, dim=1) == y_test).float()\n",
        "accuracy = correct.mean()\n",
        "\n",
        "print(f'Test Acc.: {accuracy:.12f}')\n",
        "\n",
        "\n",
        "pred_test = model_new2(X_test_norm)\n",
        "\n",
        "correct = (torch.argmax(pred_test, dim=1) == y_test).float()\n",
        "accuracy = correct.mean()\n",
        "\n",
        "print(f'Test Acc.: {accuracy:.12f}')"
      ],
      "metadata": {
        "colab": {
          "base_uri": "https://localhost:8080/"
        },
        "id": "D6_Uccsnp8Jc",
        "outputId": "9badd902-b635-402e-deae-0bb730e6c550"
      },
      "execution_count": null,
      "outputs": [
        {
          "output_type": "stream",
          "name": "stdout",
          "text": [
            "Test Acc.: 0.980000019073\n",
            "Test Acc.: 0.980000019073\n"
          ]
        }
      ]
    },
    {
      "cell_type": "markdown",
      "source": [],
      "metadata": {
        "id": "nxpRrcXpkQ5g"
      }
    },
    {
      "cell_type": "markdown",
      "source": [],
      "metadata": {
        "id": "fm7YdkVPkQ7w"
      }
    },
    {
      "cell_type": "markdown",
      "source": [
        "### **Appendix**"
      ],
      "metadata": {
        "id": "AIOcb6_7kQ-S"
      }
    },
    {
      "cell_type": "markdown",
      "metadata": {
        "id": "apSeZRX9eciA"
      },
      "source": [
        "### Choosing activation functions for MLP\n"
      ]
    },
    {
      "cell_type": "markdown",
      "metadata": {
        "id": "hT5may3KeciA"
      },
      "source": [
        "**Logistic function recap**"
      ]
    },
    {
      "cell_type": "code",
      "execution_count": null,
      "metadata": {
        "id": "8Ryvj2OqeciA",
        "outputId": "0970beb6-f94b-4cac-bc87-a82cc3c060de"
      },
      "outputs": [
        {
          "name": "stdout",
          "output_type": "stream",
          "text": [
            "P(y=1|x) = 0.888\n"
          ]
        }
      ],
      "source": [
        "import numpy as np\n",
        "\n",
        "X = np.array([1, 1.4, 2.5]) ## first value must be 1\n",
        "w = np.array([0.4, 0.3, 0.5])\n",
        "\n",
        "def net_input(X, w):\n",
        "    return np.dot(X, w)\n",
        "\n",
        "def logistic(z):\n",
        "    return 1.0 / (1.0 + np.exp(-z))\n",
        "\n",
        "def logistic_activation(X, w):\n",
        "    z = net_input(X, w)\n",
        "    return logistic(z)\n",
        "\n",
        "print(f'P(y=1|x) = {logistic_activation(X, w):.3f}')"
      ]
    },
    {
      "cell_type": "code",
      "execution_count": null,
      "metadata": {
        "id": "1DFC0k01eciB",
        "outputId": "07c54539-0ef2-46b0-8068-840ecb9b3c73"
      },
      "outputs": [
        {
          "name": "stdout",
          "output_type": "stream",
          "text": [
            "Net Input: \n",
            " [1.78 0.76 1.65]\n",
            "Output Units:\n",
            " [0.85569687 0.68135373 0.83889105]\n"
          ]
        }
      ],
      "source": [
        "# W : array with shape = (n_output_units, n_hidden_units+1)\n",
        "# note that the first column are the bias units\n",
        "\n",
        "W = np.array([[1.1, 1.2, 0.8, 0.4],\n",
        "              [0.2, 0.4, 1.0, 0.2],\n",
        "              [0.6, 1.5, 1.2, 0.7]])\n",
        "\n",
        "# A : data array with shape = (n_hidden_units + 1, n_samples)\n",
        "# note that the first column of this array must be 1\n",
        "\n",
        "A = np.array([[1, 0.1, 0.4, 0.6]])\n",
        "Z = np.dot(W, A[0])\n",
        "y_probas = logistic(Z)\n",
        "print('Net Input: \\n', Z)\n",
        "\n",
        "print('Output Units:\\n', y_probas)"
      ]
    },
    {
      "cell_type": "code",
      "execution_count": null,
      "metadata": {
        "id": "d9K_7jyXeciB",
        "outputId": "63eb5fe0-e7dc-42ae-8fe5-ca1dd56fed8a"
      },
      "outputs": [
        {
          "name": "stdout",
          "output_type": "stream",
          "text": [
            "Predicted class label: 0\n"
          ]
        }
      ],
      "source": [
        "y_class = np.argmax(Z, axis=0)\n",
        "print('Predicted class label:', y_class)"
      ]
    },
    {
      "cell_type": "markdown",
      "metadata": {
        "id": "IplHWFUFeciB"
      },
      "source": [
        "**Estimating class probabilities in multiclass classification via the softmax function**"
      ]
    },
    {
      "cell_type": "code",
      "execution_count": null,
      "metadata": {
        "id": "TTs31ZQ_eciB",
        "outputId": "6151335d-49cc-44e3-a445-bee63aacc3ca"
      },
      "outputs": [
        {
          "name": "stdout",
          "output_type": "stream",
          "text": [
            "Probabilities:\n",
            " [0.44668973 0.16107406 0.39223621]\n"
          ]
        },
        {
          "data": {
            "text/plain": [
              "1.0"
            ]
          },
          "execution_count": 25,
          "metadata": {},
          "output_type": "execute_result"
        }
      ],
      "source": [
        "def softmax(z):\n",
        "    return np.exp(z) / np.sum(np.exp(z))\n",
        "\n",
        "y_probas = softmax(Z)\n",
        "print('Probabilities:\\n', y_probas)\n",
        "\n",
        "np.sum(y_probas)"
      ]
    },
    {
      "cell_type": "code",
      "execution_count": null,
      "metadata": {
        "id": "1P4O4NIoeciB",
        "outputId": "4d5e5ebe-a3da-4ff9-e402-5ae050452249"
      },
      "outputs": [
        {
          "data": {
            "text/plain": [
              "tensor([0.4467, 0.1611, 0.3922], dtype=torch.float64)"
            ]
          },
          "execution_count": 26,
          "metadata": {},
          "output_type": "execute_result"
        }
      ],
      "source": [
        "torch.softmax(torch.from_numpy(Z), dim=0)"
      ]
    },
    {
      "cell_type": "markdown",
      "metadata": {
        "id": "jizZbtWmeciB"
      },
      "source": [
        "**Broadening the output spectrum using a hyperbolic tangent**"
      ]
    },
    {
      "cell_type": "code",
      "execution_count": null,
      "metadata": {
        "id": "s-xeAxR3eciB",
        "outputId": "dd63cc4b-6474-4605-b3ab-d30d95a2a371"
      },
      "outputs": [
        {
          "data": {
            "image/png": "[encoded data removed]",
            "text/plain": [
              "<Figure size 432x288 with 1 Axes>"
            ]
          },
          "metadata": {
            "needs_background": "light"
          },
          "output_type": "display_data"
        }
      ],
      "source": [
        "import matplotlib.pyplot as plt\n",
        "%matplotlib inline\n",
        "\n",
        "def tanh(z):\n",
        "    e_p = np.exp(z)\n",
        "    e_m = np.exp(-z)\n",
        "    return (e_p - e_m) / (e_p + e_m)\n",
        "\n",
        "z = np.arange(-5, 5, 0.005)\n",
        "log_act = logistic(z)\n",
        "tanh_act = tanh(z)\n",
        "plt.ylim([-1.5, 1.5])\n",
        "plt.xlabel('Net input $z$')\n",
        "plt.ylabel('Activation $\\phi(z)$')\n",
        "plt.axhline(1, color='black', linestyle=':')\n",
        "plt.axhline(0.5, color='black', linestyle=':')\n",
        "plt.axhline(0, color='black', linestyle=':')\n",
        "plt.axhline(-0.5, color='black', linestyle=':')\n",
        "plt.axhline(-1, color='black', linestyle=':')\n",
        "plt.plot(z, tanh_act,\n",
        "    linewidth=3, linestyle='--',\n",
        "    label='Tanh')\n",
        "plt.plot(z, log_act,\n",
        "    linewidth=3,\n",
        "    label='Logistic')\n",
        "plt.legend(loc='lower right')\n",
        "plt.tight_layout()\n",
        "\n",
        "plt.show()"
      ]
    },
    {
      "cell_type": "code",
      "execution_count": null,
      "metadata": {
        "id": "OSIXGbBieciC",
        "outputId": "d9550fdb-1537-4d09-ae9f-8c8ad85d7b95"
      },
      "outputs": [
        {
          "data": {
            "text/plain": [
              "array([-0.9999092 , -0.99990829, -0.99990737, ...,  0.99990644,\n",
              "        0.99990737,  0.99990829])"
            ]
          },
          "execution_count": 28,
          "metadata": {},
          "output_type": "execute_result"
        }
      ],
      "source": [
        "np.tanh(z)"
      ]
    },
    {
      "cell_type": "code",
      "execution_count": null,
      "metadata": {
        "id": "JT8-k8B6eciC",
        "outputId": "af444c67-19ce-46f1-a237-6a31cc04db18"
      },
      "outputs": [
        {
          "data": {
            "text/plain": [
              "tensor([-0.9999, -0.9999, -0.9999,  ...,  0.9999,  0.9999,  0.9999],\n",
              "       dtype=torch.float64)"
            ]
          },
          "execution_count": 29,
          "metadata": {},
          "output_type": "execute_result"
        }
      ],
      "source": [
        "torch.tanh(torch.from_numpy(z))\n"
      ]
    },
    {
      "cell_type": "code",
      "execution_count": null,
      "metadata": {
        "id": "TM85mH8WeciC",
        "outputId": "7d20d3c1-ba88-44d5-b006-c759965cb865"
      },
      "outputs": [
        {
          "data": {
            "text/plain": [
              "array([0.00669285, 0.00672617, 0.00675966, ..., 0.99320669, 0.99324034,\n",
              "       0.99327383])"
            ]
          },
          "execution_count": 30,
          "metadata": {},
          "output_type": "execute_result"
        }
      ],
      "source": [
        "from scipy.special import expit\n",
        "\n",
        "expit(z)"
      ]
    },
    {
      "cell_type": "code",
      "execution_count": null,
      "metadata": {
        "id": "DgDC5Q2AeciC",
        "outputId": "749cc9a6-5653-4ea9-b83b-f32bddfeedfd"
      },
      "outputs": [
        {
          "data": {
            "text/plain": [
              "tensor([0.0067, 0.0067, 0.0068,  ..., 0.9932, 0.9932, 0.9933],\n",
              "       dtype=torch.float64)"
            ]
          },
          "execution_count": 31,
          "metadata": {},
          "output_type": "execute_result"
        }
      ],
      "source": [
        "torch.sigmoid(torch.from_numpy(z))"
      ]
    },
    {
      "cell_type": "markdown",
      "metadata": {
        "id": "hFEPQ6cPeciC"
      },
      "source": [
        "**Rectified linear unit activation**"
      ]
    },
    {
      "cell_type": "code",
      "execution_count": null,
      "metadata": {
        "id": "5RW8wiAzeciC",
        "outputId": "55b4ebe4-3352-45d2-e4a5-e6780e4ac832"
      },
      "outputs": [
        {
          "data": {
            "text/plain": [
              "tensor([0.0000, 0.0000, 0.0000,  ..., 4.9850, 4.9900, 4.9950],\n",
              "       dtype=torch.float64)"
            ]
          },
          "execution_count": 32,
          "metadata": {},
          "output_type": "execute_result"
        }
      ],
      "source": [
        "torch.relu(torch.from_numpy(z))"
      ]
    }
  ],
  "metadata": {
    "kernelspec": {
      "display_name": "Python 3",
      "name": "python3"
    },
    "language_info": {
      "codemirror_mode": {
        "name": "ipython",
        "version": 3
      },
      "file_extension": ".py",
      "mimetype": "text/x-python",
      "name": "python",
      "nbconvert_exporter": "python",
      "pygments_lexer": "ipython3",
      "version": "3.8.8"
    },
    "toc-showmarkdowntxt": false,
    "toc-showtags": false,
    "colab": {
      "provenance": [],
      "gpuType": "T4"
    },
    "accelerator": "GPU"
  },
  "nbformat": 4,
  "nbformat_minor": 0
}
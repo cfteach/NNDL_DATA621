{
  "cells": [
    {
      "cell_type": "markdown",
      "metadata": {
        "id": "jSKukMjCech7"
      },
      "source": [
        "## Using PyTorch to build Neural Networks"
      ]
    },
    {
      "cell_type": "markdown",
      "source": [
        "In this notebook, we will leveraging the PyTorch Neural Network module (`torch.nn`)"
      ],
      "metadata": {
        "id": "q-s6w5Gtxa4m"
      }
    },
    {
      "cell_type": "code",
      "execution_count": 96,
      "metadata": {
        "id": "NXwF3LXEech8"
      },
      "outputs": [],
      "source": [
        "from IPython.display import Image as IPythonImage\n",
        "%matplotlib inline\n",
        "\n",
        "import torch\n",
        "import numpy as np\n",
        "import matplotlib.pyplot as plt"
      ]
    },
    {
      "cell_type": "markdown",
      "metadata": {
        "id": "N00JpgWYech8"
      },
      "source": [
        "### Building a linear regression model"
      ]
    },
    {
      "cell_type": "code",
      "execution_count": 111,
      "metadata": {
        "colab": {
          "base_uri": "https://localhost:8080/",
          "height": 448
        },
        "id": "BP8Qb7uNech9",
        "outputId": "5a0c82a2-c87c-42ac-ed95-a91f6b34edfb"
      },
      "outputs": [
        {
          "output_type": "display_data",
          "data": {
            "text/plain": [
              "<Figure size 640x480 with 1 Axes>"
            ],
            "image/png": "[encoded data removed]"
          },
          "metadata": {}
        }
      ],
      "source": [
        "\n",
        "X_train = np.random.uniform(0, 9, size=(10, 1)).reshape(-1, 1).astype('float32')\n",
        "noise = np.random.normal(0, 0.5, size=(10, 1)).astype('float32')\n",
        "\n",
        "y_train = 1.0*X_train+noise\n",
        "\n",
        "\n",
        "plt.plot(X_train, y_train, 'o', markersize=10)\n",
        "plt.xlabel('x')\n",
        "plt.ylabel('y')\n",
        "\n",
        "plt.show()"
      ]
    },
    {
      "cell_type": "code",
      "execution_count": 112,
      "metadata": {
        "id": "gkIijSo0ech9"
      },
      "outputs": [],
      "source": [
        "from torch.utils.data import TensorDataset\n",
        "from torch.utils.data import DataLoader\n",
        "\n",
        "X_train_norm = (X_train - np.mean(X_train)) / np.std(X_train)\n",
        "X_train_norm = torch.from_numpy(X_train_norm)\n",
        "\n",
        "# On some computers the explicit cast to .float() is\n",
        "# necessary\n",
        "y_train = torch.from_numpy(y_train).float()\n",
        "\n",
        "train_ds = TensorDataset(X_train_norm, y_train)\n",
        "\n",
        "batch_size = 1\n",
        "train_dl = DataLoader(train_ds, batch_size, shuffle=True)"
      ]
    },
    {
      "cell_type": "code",
      "execution_count": 121,
      "metadata": {
        "colab": {
          "base_uri": "https://localhost:8080/"
        },
        "id": "ssyyrrUbech9",
        "outputId": "818dc5c8-8e64-4543-ef46-9c9840f17ca8"
      },
      "outputs": [
        {
          "output_type": "stream",
          "name": "stdout",
          "text": [
            "Epoch 0  Loss 3.2491\n",
            "Epoch 10  Loss 9.5311\n",
            "Epoch 20  Loss 1.8302\n",
            "Epoch 30  Loss 13.0783\n",
            "Epoch 40  Loss 3.4575\n",
            "Epoch 50  Loss 0.3961\n",
            "Epoch 60  Loss 1.6141\n",
            "Epoch 70  Loss 0.5764\n",
            "Epoch 80  Loss 0.7580\n",
            "Epoch 90  Loss 0.3296\n",
            "Epoch 100  Loss 0.0244\n",
            "Epoch 110  Loss 0.2675\n",
            "Epoch 120  Loss 0.1756\n",
            "Epoch 130  Loss 0.1116\n",
            "Epoch 140  Loss 0.0611\n",
            "Epoch 150  Loss 0.4222\n",
            "Epoch 160  Loss 0.1603\n",
            "Epoch 170  Loss 0.0001\n",
            "Epoch 180  Loss 0.0000\n",
            "Epoch 190  Loss 0.2067\n"
          ]
        }
      ],
      "source": [
        "torch.manual_seed(1) # sets the seed to generate random numbers\n",
        "\n",
        "#------------------------------------------------------------------------------------------------\n",
        "# Initialize the weights\n",
        "weight = torch.randn(1) # argument specify shape of the tensor\n",
        "\n",
        "# The following sets the requires_grad attribute of the tensor to True;\n",
        "# PyTorch will track operations on this tensor, and gradients will be computed for it during backpropagation\n",
        "weight.requires_grad_() # You want to optimize the parameter 'weight'\n",
        "\n",
        "# Initialize the bias tensor filled with zeros with a shape of (1,), and it sets requires_grad=True\n",
        "bias = torch.zeros(1, requires_grad=True)\n",
        "\n",
        "# Try also weight = torch.randn(1, requires_grad=True)\n",
        "#------------------------------------------------------------------------------------------------\n",
        "\n",
        "\n",
        "def loss_fn(input, target):\n",
        "    return (input-target).pow(2).mean()\n",
        "\n",
        "def model(xb):\n",
        "    # The @ operator denotes matrix multiplication (see PEP 465) / more readable than torch.matmul()\n",
        "    return xb @ weight + bias\n",
        "\n",
        "learning_rate = 0.001\n",
        "num_epochs = 200\n",
        "log_epochs = 10\n",
        "\n",
        "for epoch in range(num_epochs):\n",
        "    for x_batch, y_batch in train_dl:\n",
        "        pred = model(x_batch)\n",
        "        loss = loss_fn(pred, y_batch)\n",
        "        loss.backward() # After calling loss.backward(), the gradients are computed and stored in the .grad attributes of the tensors\n",
        "\n",
        "        with torch.no_grad(): #  used to disable temporarily gradient tracking during the parameter update, memory efficiency\n",
        "            weight -= weight.grad * learning_rate\n",
        "            bias -= bias.grad * learning_rate\n",
        "\n",
        "            # Zeroing gradients after updating; essential to reset their gradients to zero for the next iteration of the training loop\n",
        "            # By default, PyTorch accumulates gradients. If you don’t zero the gradients, they will accumulate over multiple iterations (batches)\n",
        "            weight.grad.zero_()\n",
        "            bias.grad.zero_()\n",
        "\n",
        "    if epoch % log_epochs==0:\n",
        "        print(f'Epoch {epoch}  Loss {loss.item():.4f}') # item() method used to retrieve the value of a scalar tensor as a standard Python number\n",
        ""
      ]
    },
    {
      "cell_type": "code",
      "execution_count": 122,
      "metadata": {
        "colab": {
          "base_uri": "https://localhost:8080/",
          "height": 492
        },
        "id": "5Rav3rd9ech9",
        "outputId": "d3e7f7c5-3d6c-41ca-d1b5-6a0a9e5762a0"
      },
      "outputs": [
        {
          "output_type": "stream",
          "name": "stdout",
          "text": [
            "Final Parameters: 2.402, 3.662\n"
          ]
        },
        {
          "output_type": "display_data",
          "data": {
            "text/plain": [
              "<Figure size 1300x500 with 1 Axes>"
            ],
            "image/png": "[encoded data removed]"
          },
          "metadata": {}
        }
      ],
      "source": [
        "print(f\"Final Parameters: {weight.item():1.3f}, {bias.item():1.3f}\")\n",
        "\n",
        "X_test = np.linspace(0, 9, num=100, dtype='float32').reshape(-1, 1)\n",
        "X_test_norm = (X_test - np.mean(X_train)) / np.std(X_train)\n",
        "X_test_norm = torch.from_numpy(X_test_norm)\n",
        "y_pred = model(X_test_norm).detach().numpy()\n",
        "\n",
        "\n",
        "fig = plt.figure(figsize=(13, 5))\n",
        "ax = fig.add_subplot(1, 2, 1)\n",
        "plt.plot(X_train_norm, y_train, 'o', markersize=10)\n",
        "plt.plot(X_test_norm, y_pred, '--', lw=3)\n",
        "plt.legend(['Training examples', 'Linear Reg.'], fontsize=15)\n",
        "ax.set_xlabel('x', size=15)\n",
        "ax.set_ylabel('y', size=15)\n",
        "ax.tick_params(axis='both', which='major', labelsize=15)\n",
        "\n",
        "plt.show()"
      ]
    },
    {
      "cell_type": "markdown",
      "metadata": {
        "id": "jgKkeKESech-"
      },
      "source": [
        "**Model training via `torch.nn` and `torch.optim` modules**"
      ]
    },
    {
      "cell_type": "code",
      "execution_count": 123,
      "metadata": {
        "colab": {
          "base_uri": "https://localhost:8080/"
        },
        "id": "0G1bxjoJech-",
        "outputId": "584062ad-ca2d-420b-84f0-3b37c4d13e44"
      },
      "outputs": [
        {
          "output_type": "stream",
          "name": "stdout",
          "text": [
            "Epoch 0  Loss 17.9522\n",
            "Epoch 10  Loss 8.9156\n",
            "Epoch 20  Loss 6.3410\n",
            "Epoch 30  Loss 9.6754\n",
            "Epoch 40  Loss 0.1053\n",
            "Epoch 50  Loss 0.3994\n",
            "Epoch 60  Loss 2.0257\n",
            "Epoch 70  Loss 1.2291\n",
            "Epoch 80  Loss 0.1314\n",
            "Epoch 90  Loss 0.1462\n",
            "Epoch 100  Loss 1.5340\n",
            "Epoch 110  Loss 1.0811\n",
            "Epoch 120  Loss 0.0819\n",
            "Epoch 130  Loss 0.0937\n",
            "Epoch 140  Loss 0.0902\n",
            "Epoch 150  Loss 0.0873\n",
            "Epoch 160  Loss 0.0849\n",
            "Epoch 170  Loss 0.0831\n",
            "Epoch 180  Loss 0.1328\n",
            "Epoch 190  Loss 0.0178\n"
          ]
        }
      ],
      "source": [
        "import torch.nn as nn\n",
        "\n",
        "input_size = 1\n",
        "output_size = 1\n",
        "model = nn.Linear(input_size, output_size)\n",
        "\n",
        "loss_fn = nn.MSELoss(reduction='mean')\n",
        "\n",
        "optimizer = torch.optim.SGD(model.parameters(), lr=learning_rate)\n",
        "\n",
        "for epoch in range(num_epochs):\n",
        "    for x_batch, y_batch in train_dl:\n",
        "        # 1. Generate predictions\n",
        "        pred = model(x_batch)[:,0]\n",
        "\n",
        "        # 2. Calculate loss\n",
        "        loss = loss_fn(pred, y_batch)\n",
        "\n",
        "        # 3. Compute gradients\n",
        "        loss.backward()\n",
        "\n",
        "        # 4. Update parameters using gradients\n",
        "        optimizer.step()\n",
        "\n",
        "        # 5. Reset the gradients to zero\n",
        "        optimizer.zero_grad()\n",
        "\n",
        "    if epoch % log_epochs==0:\n",
        "        print(f'Epoch {epoch}  Loss {loss.item():.4f}')"
      ]
    },
    {
      "cell_type": "code",
      "execution_count": 125,
      "metadata": {
        "colab": {
          "base_uri": "https://localhost:8080/",
          "height": 492
        },
        "id": "GkpfZquaech-",
        "outputId": "5eb72dd8-f48d-4c92-9cac-76c5ffc418bb"
      },
      "outputs": [
        {
          "output_type": "stream",
          "name": "stdout",
          "text": [
            "Final Parameters:, 2.3820, 3.6597\n"
          ]
        },
        {
          "output_type": "display_data",
          "data": {
            "text/plain": [
              "<Figure size 1300x500 with 1 Axes>"
            ],
            "image/png": "[encoded data removed]"
          },
          "metadata": {}
        }
      ],
      "source": [
        "print(f\"Final Parameters:, {model.weight.item():1.4f}, {model.bias.item():1.4f}\")\n",
        "\n",
        "X_test = np.linspace(0, 9, num=100, dtype='float32').reshape(-1, 1)\n",
        "X_test_norm = (X_test - np.mean(X_train)) / np.std(X_train)\n",
        "X_test_norm = torch.from_numpy(X_test_norm)\n",
        "y_pred = model(X_test_norm).detach() #  detach() creates a new tensor deached from the computation graph; it shares the same data as the original tensor but does not require gradients\n",
        "\n",
        "\n",
        "fig = plt.figure(figsize=(13, 5))\n",
        "ax = fig.add_subplot(1, 2, 1)\n",
        "plt.plot(X_train_norm.detach().numpy(), y_train.detach().numpy(), 'o', markersize=10)\n",
        "plt.plot(X_test_norm.detach().numpy(), y_pred.detach().numpy(), '--', lw=3)\n",
        "plt.legend(['Training examples', 'Linear reg.'], fontsize=15)\n",
        "ax.set_xlabel('x', size=15)\n",
        "ax.set_ylabel('y', size=15)\n",
        "ax.tick_params(axis='both', which='major', labelsize=15)\n",
        "\n",
        "\n",
        "plt.show()\n"
      ]
    },
    {
      "cell_type": "markdown",
      "source": [
        "\n",
        "\n",
        "---\n",
        "\n"
      ],
      "metadata": {
        "id": "ELs5kktVfbmR"
      }
    },
    {
      "cell_type": "markdown",
      "source": [
        "### Exercise: train a regression model for the following polynomial *dataset*"
      ],
      "metadata": {
        "id": "mF-uLigkfbq3"
      }
    },
    {
      "cell_type": "code",
      "source": [
        "X_train = np.random.uniform(0, 9, size=(20, 1)).reshape(-1, 1).astype('float32')\n",
        "noise = np.random.normal(0, 2., size=(20, 1)).astype('float32')\n",
        "\n",
        "b = 5\n",
        "a1 = 1.0\n",
        "a2 = -1.5\n",
        "\n",
        "y_train =  b + a1*X_train + a2*X_train**2 + noise\n",
        "\n",
        "\n",
        "plt.plot(X_train, y_train, 'o', markersize=10)\n",
        "plt.xlabel('x')\n",
        "plt.ylabel('y')\n",
        "\n",
        "plt.show()\n",
        "\n",
        "print(np.shape(X_train), np.shape(y_train))"
      ],
      "metadata": {
        "colab": {
          "base_uri": "https://localhost:8080/",
          "height": 464
        },
        "id": "NTz_29kt1Nno",
        "outputId": "eb7706e8-252a-4a47-9202-9fa1b7d5e9ec"
      },
      "execution_count": 179,
      "outputs": [
        {
          "output_type": "display_data",
          "data": {
            "text/plain": [
              "<Figure size 640x480 with 1 Axes>"
            ],
            "image/png": "[encoded data removed]"
          },
          "metadata": {}
        },
        {
          "output_type": "stream",
          "name": "stdout",
          "text": [
            "(20, 1) (20, 1)\n"
          ]
        }
      ]
    },
    {
      "cell_type": "code",
      "source": [
        "### Augment training dataset\n",
        "\n",
        "# Create the squared feature\n",
        "X_train_squared = X_train ** 2\n",
        "\n",
        "# Concatenate the original and squared features\n",
        "X_train_augmented = np.concatenate((X_train, X_train_squared), axis=1)\n",
        "\n",
        "\n",
        "print(np.shape(X_train), np.shape(X_train_augmented), np.shape(y_train))\n",
        "print(type(X_train_augmented), type(y_train))\n",
        "\n",
        "print(X_train_augmented)\n",
        "print(y_train)"
      ],
      "metadata": {
        "colab": {
          "base_uri": "https://localhost:8080/"
        },
        "id": "Ss8mjhPP25tO",
        "outputId": "b323b38d-d21d-4779-f724-c7b4d187047b"
      },
      "execution_count": 186,
      "outputs": [
        {
          "output_type": "stream",
          "name": "stdout",
          "text": [
            "(20, 1) (20, 2) (20, 1)\n",
            "<class 'numpy.ndarray'> <class 'numpy.ndarray'>\n",
            "[[3.6971023e+00 1.3668566e+01]\n",
            " [2.5924151e+00 6.7206159e+00]\n",
            " [1.7106174e+00 2.9262121e+00]\n",
            " [4.4485321e+00 1.9789438e+01]\n",
            " [1.0566994e+00 1.1166136e+00]\n",
            " [5.8612099e+00 3.4353783e+01]\n",
            " [5.0129032e+00 2.5129198e+01]\n",
            " [4.1142840e+00 1.6927334e+01]\n",
            " [8.1670504e+00 6.6700714e+01]\n",
            " [5.4450302e+00 2.9648354e+01]\n",
            " [7.3200064e+00 5.3582493e+01]\n",
            " [1.8971516e-01 3.5991844e-02]\n",
            " [3.2271910e+00 1.0414762e+01]\n",
            " [1.0966786e+00 1.2027040e+00]\n",
            " [3.7323686e-01 1.3930576e-01]\n",
            " [5.5195135e-01 3.0465028e-01]\n",
            " [8.5755568e+00 7.3540176e+01]\n",
            " [8.2034693e+00 6.7296906e+01]\n",
            " [8.1086893e+00 6.5750839e+01]\n",
            " [7.4474616e+00 5.5464684e+01]]\n",
            "[[-10.168093 ]\n",
            " [ -3.342952 ]\n",
            " [  4.270904 ]\n",
            " [-20.68957  ]\n",
            " [  6.471923 ]\n",
            " [-40.42842  ]\n",
            " [-27.326048 ]\n",
            " [-17.681248 ]\n",
            " [-84.60758  ]\n",
            " [-35.15306  ]\n",
            " [-64.794914 ]\n",
            " [  4.632539 ]\n",
            " [ -8.622368 ]\n",
            " [  2.5686972]\n",
            " [  4.7782083]\n",
            " [  4.4388986]\n",
            " [-95.47153  ]\n",
            " [-87.987686 ]\n",
            " [-83.047005 ]\n",
            " [-67.42476  ]]\n"
          ]
        }
      ]
    },
    {
      "cell_type": "code",
      "source": [
        "# Normalize each feature independently\n",
        "mean_poly = np.mean(X_train_augmented, axis=0)\n",
        "std_poly = np.std(X_train_augmented, axis=0)\n",
        "\n",
        "print(np.shape(mean_poly), np.shape(std_poly))\n",
        "\n",
        "X_train_norm = (X_train_augmented - mean_poly) / std_poly\n",
        "X_train_norm = torch.from_numpy(X_train_norm)  # Convert to PyTorch tensor\n",
        "\n",
        "print(np.shape(X_train_norm), np.shape(y_train))\n",
        "print(type(X_train_norm), type(y_train))\n",
        "\n",
        "# On some computers the explicit cast to .float() is\n",
        "# necessary\n",
        "y_train = torch.from_numpy(y_train).float()\n",
        "\n",
        "train_ds = TensorDataset(X_train_norm, y_train)\n",
        "\n",
        "batch_size = 1\n",
        "train_dl = DataLoader(train_ds, batch_size, shuffle=True)\n"
      ],
      "metadata": {
        "colab": {
          "base_uri": "https://localhost:8080/"
        },
        "id": "_9SlmYTe2bQW",
        "outputId": "8ded399c-4173-4224-8ef1-6a7b158ac9ab"
      },
      "execution_count": 190,
      "outputs": [
        {
          "output_type": "stream",
          "name": "stdout",
          "text": [
            "(2,) (2,)\n",
            "torch.Size([20, 2]) (20, 1)\n",
            "<class 'torch.Tensor'> <class 'numpy.ndarray'>\n"
          ]
        }
      ]
    },
    {
      "cell_type": "code",
      "source": [
        "num_epochs = 1000\n",
        "learning_rate = 0.005\n",
        "\n",
        "input_size = 2\n",
        "output_size = 1\n",
        "model_poly = nn.Linear(input_size, output_size)\n",
        "\n",
        "loss_fn = nn.MSELoss(reduction='mean')\n",
        "\n",
        "optimizer = torch.optim.SGD(model_poly.parameters(), lr=learning_rate)\n",
        "\n",
        "for epoch in range(num_epochs):\n",
        "    for x_batch, y_batch in train_dl:\n",
        "        # 1. Generate predictions\n",
        "        pred = model_poly(x_batch)\n",
        "\n",
        "        # 2. Calculate loss\n",
        "        loss = loss_fn(pred, y_batch)\n",
        "\n",
        "        # 3. Compute gradients\n",
        "        loss.backward()\n",
        "\n",
        "        # 4. Update parameters using gradients\n",
        "        optimizer.step()\n",
        "\n",
        "        # 5. Reset the gradients to zero\n",
        "        optimizer.zero_grad()\n",
        "\n",
        "    if epoch % log_epochs==0:\n",
        "        print(f'Epoch {epoch}  Loss {loss.item():.4f}')"
      ],
      "metadata": {
        "colab": {
          "base_uri": "https://localhost:8080/"
        },
        "id": "A9CeL2qb2Q_1",
        "outputId": "e9d16281-a928-4eec-8257-411f648b911a"
      },
      "execution_count": 191,
      "outputs": [
        {
          "output_type": "stream",
          "name": "stdout",
          "text": [
            "Epoch 0  Loss 1.0935\n",
            "Epoch 10  Loss 1.8734\n",
            "Epoch 20  Loss 20.0987\n",
            "Epoch 30  Loss 22.8540\n",
            "Epoch 40  Loss 50.9385\n",
            "Epoch 50  Loss 31.1394\n",
            "Epoch 60  Loss 3.3539\n",
            "Epoch 70  Loss 23.8737\n",
            "Epoch 80  Loss 3.6509\n",
            "Epoch 90  Loss 3.5304\n",
            "Epoch 100  Loss 1.5616\n",
            "Epoch 110  Loss 4.9347\n",
            "Epoch 120  Loss 11.4694\n",
            "Epoch 130  Loss 5.5005\n",
            "Epoch 140  Loss 17.8583\n",
            "Epoch 150  Loss 15.0121\n",
            "Epoch 160  Loss 8.0781\n",
            "Epoch 170  Loss 10.6154\n",
            "Epoch 180  Loss 0.2392\n",
            "Epoch 190  Loss 5.9762\n",
            "Epoch 200  Loss 1.7804\n",
            "Epoch 210  Loss 1.1383\n",
            "Epoch 220  Loss 4.6339\n",
            "Epoch 230  Loss 6.6497\n",
            "Epoch 240  Loss 0.0078\n",
            "Epoch 250  Loss 0.0055\n",
            "Epoch 260  Loss 0.0016\n",
            "Epoch 270  Loss 4.0013\n",
            "Epoch 280  Loss 2.5242\n",
            "Epoch 290  Loss 5.3732\n",
            "Epoch 300  Loss 8.0769\n",
            "Epoch 310  Loss 0.0477\n",
            "Epoch 320  Loss 0.0122\n",
            "Epoch 330  Loss 3.8620\n",
            "Epoch 340  Loss 7.4204\n",
            "Epoch 350  Loss 1.3296\n",
            "Epoch 360  Loss 0.0001\n",
            "Epoch 370  Loss 5.0748\n",
            "Epoch 380  Loss 1.5636\n",
            "Epoch 390  Loss 3.2236\n",
            "Epoch 400  Loss 3.9023\n",
            "Epoch 410  Loss 0.1289\n",
            "Epoch 420  Loss 1.2289\n",
            "Epoch 430  Loss 0.4932\n",
            "Epoch 440  Loss 0.2841\n",
            "Epoch 450  Loss 0.5542\n",
            "Epoch 460  Loss 3.1389\n",
            "Epoch 470  Loss 0.0016\n",
            "Epoch 480  Loss 3.9539\n",
            "Epoch 490  Loss 0.4953\n",
            "Epoch 500  Loss 3.9505\n",
            "Epoch 510  Loss 5.8435\n",
            "Epoch 520  Loss 0.3564\n",
            "Epoch 530  Loss 5.5896\n",
            "Epoch 540  Loss 0.3312\n",
            "Epoch 550  Loss 0.5919\n",
            "Epoch 560  Loss 0.8114\n",
            "Epoch 570  Loss 0.0311\n",
            "Epoch 580  Loss 0.5156\n",
            "Epoch 590  Loss 0.4663\n",
            "Epoch 600  Loss 0.3375\n",
            "Epoch 610  Loss 0.0799\n",
            "Epoch 620  Loss 0.0429\n",
            "Epoch 630  Loss 0.3782\n",
            "Epoch 640  Loss 1.9953\n",
            "Epoch 650  Loss 0.3683\n",
            "Epoch 660  Loss 2.0620\n",
            "Epoch 670  Loss 0.1104\n",
            "Epoch 680  Loss 2.0713\n",
            "Epoch 690  Loss 3.4719\n",
            "Epoch 700  Loss 5.0922\n",
            "Epoch 710  Loss 0.0663\n",
            "Epoch 720  Loss 5.3117\n",
            "Epoch 730  Loss 0.3494\n",
            "Epoch 740  Loss 0.3646\n",
            "Epoch 750  Loss 2.6160\n",
            "Epoch 760  Loss 1.7674\n",
            "Epoch 770  Loss 0.0862\n",
            "Epoch 780  Loss 5.3500\n",
            "Epoch 790  Loss 0.0316\n",
            "Epoch 800  Loss 4.0835\n",
            "Epoch 810  Loss 5.4197\n",
            "Epoch 820  Loss 5.1041\n",
            "Epoch 830  Loss 0.2782\n",
            "Epoch 840  Loss 0.1067\n",
            "Epoch 850  Loss 4.8957\n",
            "Epoch 860  Loss 3.9972\n",
            "Epoch 870  Loss 2.4513\n",
            "Epoch 880  Loss 2.5915\n",
            "Epoch 890  Loss 5.3785\n",
            "Epoch 900  Loss 1.8523\n",
            "Epoch 910  Loss 1.1067\n",
            "Epoch 920  Loss 0.3924\n",
            "Epoch 930  Loss 1.0879\n",
            "Epoch 940  Loss 3.9512\n",
            "Epoch 950  Loss 3.1685\n",
            "Epoch 960  Loss 1.1190\n",
            "Epoch 970  Loss 0.0212\n",
            "Epoch 980  Loss 0.4258\n",
            "Epoch 990  Loss 0.3713\n"
          ]
        }
      ]
    },
    {
      "cell_type": "code",
      "source": [
        "print(f\"Final Parameters:, {model.weight.item():1.4f}, {model.bias.item():1.4f}\")\n",
        "\n",
        "X_test = np.linspace(0, 9, num=1000, dtype='float32').reshape(-1, 1)\n",
        "\n",
        "# Create the squared feature\n",
        "X_test_squared = X_test ** 2\n",
        "\n",
        "# Concatenate the original and squared features\n",
        "X_test_augmented = np.concatenate((X_test, X_test_squared), axis=1)\n",
        "\n",
        "X_test_norm = (X_test_augmented - mean_poly) / std_poly\n",
        "X_test_norm = torch.from_numpy(X_test_norm)\n",
        "y_test_pred = model_poly(X_test_norm).detach() #  detach() creates a new tensor deached from the computation graph; it shares the same data as the original tensor but does not require gradients\n",
        "\n",
        "\n",
        "fig = plt.figure(figsize=(13, 5))\n",
        "ax = fig.add_subplot(1, 1, 1)\n",
        "plt.plot(X_train_norm.detach()[:,0].numpy(), y_train.detach().numpy(), 'o', markersize=10)\n",
        "plt.plot(X_test_norm.detach()[:,0].numpy(), y_test_pred.detach().numpy(), '--', lw=3)\n",
        "plt.legend(['Training examples', 'test curve'], fontsize=15)\n",
        "ax.set_xlabel('x', size=15)\n",
        "ax.set_ylabel('y', size=15)\n",
        "ax.tick_params(axis='both', which='major', labelsize=15)\n",
        "\n",
        "\n",
        "plt.show()\n",
        "\n",
        "print(np.shape(X_test_norm), np.shape(y_test_pred))\n"
      ],
      "metadata": {
        "colab": {
          "base_uri": "https://localhost:8080/",
          "height": 509
        },
        "id": "KBc9pb4u6PA_",
        "outputId": "e5ac1088-9f3f-4f34-bc6b-0717460580dd"
      },
      "execution_count": 202,
      "outputs": [
        {
          "output_type": "stream",
          "name": "stdout",
          "text": [
            "Final Parameters:, -31.6561, -26.9995\n"
          ]
        },
        {
          "output_type": "display_data",
          "data": {
            "text/plain": [
              "<Figure size 1300x500 with 1 Axes>"
            ],
            "image/png": "[encoded data removed]"
          },
          "metadata": {}
        },
        {
          "output_type": "stream",
          "name": "stdout",
          "text": [
            "torch.Size([1000, 2]) torch.Size([1000, 1])\n"
          ]
        }
      ]
    },
    {
      "cell_type": "markdown",
      "source": [
        "\n",
        "\n",
        "---\n",
        "\n"
      ],
      "metadata": {
        "id": "0fEQ5uzwfb3_"
      }
    },
    {
      "cell_type": "markdown",
      "metadata": {
        "id": "JTGQU5Dzech-"
      },
      "source": [
        "### Building an MLP for Classification"
      ]
    },
    {
      "cell_type": "code",
      "execution_count": 61,
      "metadata": {
        "id": "tDP3exs1ech_"
      },
      "outputs": [],
      "source": [
        "from sklearn.datasets import load_iris\n",
        "from sklearn.model_selection import train_test_split\n",
        "\n",
        "iris = load_iris()\n",
        "X = iris['data']\n",
        "y = iris['target']\n",
        "\n",
        "X_train, X_test, y_train, y_test = train_test_split(\n",
        "    X, y, test_size=1./3, random_state=1)"
      ]
    },
    {
      "cell_type": "code",
      "execution_count": 62,
      "metadata": {
        "id": "4DZGiRylech_"
      },
      "outputs": [],
      "source": [
        "from torch.utils.data import TensorDataset\n",
        "from torch.utils.data import DataLoader\n",
        "\n",
        "X_train_norm = (X_train - np.mean(X_train)) / np.std(X_train)\n",
        "X_train_norm = torch.from_numpy(X_train_norm).float()\n",
        "y_train = torch.from_numpy(y_train)\n",
        "\n",
        "train_ds = TensorDataset(X_train_norm, y_train)\n",
        "\n",
        "torch.manual_seed(1)\n",
        "batch_size = 2\n",
        "train_dl = DataLoader(train_ds, batch_size, shuffle=True)"
      ]
    },
    {
      "cell_type": "code",
      "execution_count": 63,
      "metadata": {
        "id": "oJiJoFDnech_"
      },
      "outputs": [],
      "source": [
        "# For a list of all available layers http://pytorch.org/docs/stable/nn.html\n",
        "\n",
        "\n",
        "class Model(nn.Module):\n",
        "    def __init__(self, input_size, hidden_size, output_size):\n",
        "        super().__init__()\n",
        "        self.layer1 = nn.Linear(input_size, hidden_size)\n",
        "        self.layer2 = nn.Linear(hidden_size, output_size)\n",
        "\n",
        "    def forward(self, x):\n",
        "        x = self.layer1(x)\n",
        "        x = nn.Sigmoid()(x)\n",
        "        x = self.layer2(x)\n",
        "        x = nn.Softmax(dim=1)(x)\n",
        "        return x\n",
        "\n",
        "input_size = X_train_norm.shape[1]\n",
        "hidden_size = 16\n",
        "output_size = 3\n",
        "\n",
        "model = Model(input_size, hidden_size, output_size)\n",
        "\n",
        "learning_rate = 0.001\n",
        "\n",
        "loss_fn = nn.CrossEntropyLoss()\n",
        "# https://pytorch.org/docs/stable/generated/torch.nn.CrossEntropyLoss.html\n",
        "\n",
        "# Adam -Adaptive Moment Estimation- optimizer:\n",
        "# It combines the benefits of AdaGrad and RMSProp\n",
        "# More details can be found in https://github.com/cfteach/ml4hep/blob/main/gradient/gradient_descent.ipynb\n",
        "optimizer = torch.optim.Adam(model.parameters(), lr=learning_rate)\n"
      ]
    },
    {
      "cell_type": "code",
      "execution_count": 64,
      "metadata": {
        "id": "KnMPMrhMech_"
      },
      "outputs": [],
      "source": [
        "num_epochs = 100\n",
        "loss_hist = [0] * num_epochs\n",
        "accuracy_hist = [0] * num_epochs\n",
        "\n",
        "\n",
        "for epoch in range(num_epochs):\n",
        "\n",
        "    for x_batch, y_batch in train_dl:\n",
        "        pred = model(x_batch)\n",
        "        loss = loss_fn(pred, y_batch.long())\n",
        "        loss.backward()\n",
        "        optimizer.step()\n",
        "        optimizer.zero_grad()\n",
        "\n",
        "        loss_hist[epoch] += loss.item()*y_batch.size(0)\n",
        "        is_correct = (torch.argmax(pred, dim=1) == y_batch).float()\n",
        "        accuracy_hist[epoch] += is_correct.sum()\n",
        "\n",
        "    loss_hist[epoch] /= len(train_dl.dataset)\n",
        "    accuracy_hist[epoch] /= len(train_dl.dataset)\n",
        "\n",
        "\n"
      ]
    },
    {
      "cell_type": "code",
      "execution_count": 65,
      "metadata": {
        "colab": {
          "base_uri": "https://localhost:8080/",
          "height": 507
        },
        "id": "KsYSJVsgech_",
        "outputId": "bbaf90a9-4532-44e6-8963-f9386df4d3b2"
      },
      "outputs": [
        {
          "output_type": "display_data",
          "data": {
            "text/plain": [
              "<Figure size 1200x500 with 2 Axes>"
            ],
            "image/png": "[encoded data removed]"
          },
          "metadata": {}
        }
      ],
      "source": [
        "fig = plt.figure(figsize=(12, 5))\n",
        "ax = fig.add_subplot(1, 2, 1)\n",
        "ax.plot(loss_hist, lw=3)\n",
        "ax.set_title('Training loss', size=15)\n",
        "ax.set_xlabel('Epoch', size=15)\n",
        "ax.tick_params(axis='both', which='major', labelsize=15)\n",
        "\n",
        "ax = fig.add_subplot(1, 2, 2)\n",
        "ax.plot(accuracy_hist, lw=3)\n",
        "ax.set_title('Training accuracy', size=15)\n",
        "ax.set_xlabel('Epoch', size=15)\n",
        "ax.tick_params(axis='both', which='major', labelsize=15)\n",
        "plt.tight_layout()\n",
        "\n",
        "#plt.savefig('figures/12_09.pdf')\n",
        "\n",
        "plt.show()"
      ]
    },
    {
      "cell_type": "markdown",
      "metadata": {
        "id": "WOZ6LS5Hech_"
      },
      "source": [
        "**Accuracy for test dataset**"
      ]
    },
    {
      "cell_type": "code",
      "execution_count": 66,
      "metadata": {
        "colab": {
          "base_uri": "https://localhost:8080/"
        },
        "id": "GDiBtgj2ech_",
        "outputId": "48284b64-6132-4b5d-f10f-c117a131dfba"
      },
      "outputs": [
        {
          "output_type": "stream",
          "name": "stdout",
          "text": [
            "Test Acc.: 0.9800\n"
          ]
        }
      ],
      "source": [
        "X_test_norm = (X_test - np.mean(X_train)) / np.std(X_train)\n",
        "X_test_norm = torch.from_numpy(X_test_norm).float()\n",
        "y_test = torch.from_numpy(y_test)\n",
        "pred_test = model(X_test_norm)\n",
        "\n",
        "correct = (torch.argmax(pred_test, dim=1) == y_test).float()\n",
        "accuracy = correct.mean()\n",
        "\n",
        "print(f'Test Acc.: {accuracy:.4f}')\n"
      ]
    },
    {
      "cell_type": "markdown",
      "metadata": {
        "id": "ikwQOhmTech_"
      },
      "source": [
        "### Saving and reloading the trained model"
      ]
    },
    {
      "cell_type": "code",
      "execution_count": 67,
      "metadata": {
        "id": "Kum5ugdnech_"
      },
      "outputs": [],
      "source": [
        "path = 'iris_classifier.pt'\n",
        "torch.save(model, path)"
      ]
    },
    {
      "cell_type": "code",
      "execution_count": 68,
      "metadata": {
        "colab": {
          "base_uri": "https://localhost:8080/"
        },
        "id": "-ea6V_YBeciA",
        "outputId": "00572301-6703-461d-9372-b8296016f643"
      },
      "outputs": [
        {
          "output_type": "stream",
          "name": "stderr",
          "text": [
            "<ipython-input-68-ddbeb3503457>:1: FutureWarning: You are using `torch.load` with `weights_only=False` (the current default value), which uses the default pickle module implicitly. It is possible to construct malicious pickle data which will execute arbitrary code during unpickling (See https://github.com/pytorch/pytorch/blob/main/SECURITY.md#untrusted-models for more details). In a future release, the default value for `weights_only` will be flipped to `True`. This limits the functions that could be executed during unpickling. Arbitrary objects will no longer be allowed to be loaded via this mode unless they are explicitly allowlisted by the user via `torch.serialization.add_safe_globals`. We recommend you start setting `weights_only=True` for any use case where you don't have full control of the loaded file. Please open an issue on GitHub for any issues related to this experimental feature.\n",
            "  model_new = torch.load(path)\n"
          ]
        },
        {
          "output_type": "execute_result",
          "data": {
            "text/plain": [
              "Model(\n",
              "  (layer1): Linear(in_features=4, out_features=16, bias=True)\n",
              "  (layer2): Linear(in_features=16, out_features=3, bias=True)\n",
              ")"
            ]
          },
          "metadata": {},
          "execution_count": 68
        }
      ],
      "source": [
        "model_new = torch.load(path)\n",
        "model_new.eval()"
      ]
    },
    {
      "cell_type": "code",
      "execution_count": 69,
      "metadata": {
        "colab": {
          "base_uri": "https://localhost:8080/"
        },
        "id": "3CBIFDoteciA",
        "outputId": "664ee6a4-c096-4f61-aa29-26c6568d1e83"
      },
      "outputs": [
        {
          "output_type": "stream",
          "name": "stdout",
          "text": [
            "Test Acc.: 0.9800\n"
          ]
        }
      ],
      "source": [
        "pred_test = model_new(X_test_norm)\n",
        "\n",
        "correct = (torch.argmax(pred_test, dim=1) == y_test).float()\n",
        "accuracy = correct.mean()\n",
        "\n",
        "print(f'Test Acc.: {accuracy:.4f}')"
      ]
    },
    {
      "cell_type": "code",
      "execution_count": 70,
      "metadata": {
        "id": "r-n36eQbeciA"
      },
      "outputs": [],
      "source": [
        "#if you want to save only the learned parameters\n",
        "\n",
        "path = 'iris_classifier_state.pt'\n",
        "torch.save(model.state_dict(), path)"
      ]
    },
    {
      "cell_type": "code",
      "execution_count": 71,
      "metadata": {
        "colab": {
          "base_uri": "https://localhost:8080/"
        },
        "id": "7gg-ysZEeciA",
        "outputId": "0258e605-dc92-4075-a42e-356e5c6b1662"
      },
      "outputs": [
        {
          "output_type": "stream",
          "name": "stderr",
          "text": [
            "<ipython-input-71-b21dbd0d4824>:2: FutureWarning: You are using `torch.load` with `weights_only=False` (the current default value), which uses the default pickle module implicitly. It is possible to construct malicious pickle data which will execute arbitrary code during unpickling (See https://github.com/pytorch/pytorch/blob/main/SECURITY.md#untrusted-models for more details). In a future release, the default value for `weights_only` will be flipped to `True`. This limits the functions that could be executed during unpickling. Arbitrary objects will no longer be allowed to be loaded via this mode unless they are explicitly allowlisted by the user via `torch.serialization.add_safe_globals`. We recommend you start setting `weights_only=True` for any use case where you don't have full control of the loaded file. Please open an issue on GitHub for any issues related to this experimental feature.\n",
            "  model_new.load_state_dict(torch.load(path))\n"
          ]
        },
        {
          "output_type": "execute_result",
          "data": {
            "text/plain": [
              "<All keys matched successfully>"
            ]
          },
          "metadata": {},
          "execution_count": 71
        }
      ],
      "source": [
        "model_new = Model(input_size, hidden_size, output_size)\n",
        "model_new.load_state_dict(torch.load(path))\n"
      ]
    },
    {
      "cell_type": "code",
      "source": [
        "pred_test = model_new(X_test_norm)\n",
        "\n",
        "correct = (torch.argmax(pred_test, dim=1) == y_test).float()\n",
        "accuracy = correct.mean()\n",
        "\n",
        "print(f'Test Acc.: {accuracy:.4f}')"
      ],
      "metadata": {
        "colab": {
          "base_uri": "https://localhost:8080/"
        },
        "id": "VO_Mhecwrz0Y",
        "outputId": "c12e8d69-afaa-4a8b-e49d-fd9f303c6e41"
      },
      "execution_count": 73,
      "outputs": [
        {
          "output_type": "stream",
          "name": "stdout",
          "text": [
            "Test Acc.: 0.9800\n"
          ]
        }
      ]
    },
    {
      "cell_type": "markdown",
      "source": [
        "\n",
        "\n",
        "---\n",
        "\n"
      ],
      "metadata": {
        "id": "VIw289-kkQvf"
      }
    },
    {
      "cell_type": "markdown",
      "source": [
        "### Exercise: train a classification model with 2 (or more) hidden layers"
      ],
      "metadata": {
        "id": "c1vvYZI3kQ3P"
      }
    },
    {
      "cell_type": "code",
      "source": [
        "# For a list of all available layers http://pytorch.org/docs/stable/nn.html\n",
        "\n",
        "\n",
        "class Model2(nn.Module):\n",
        "    def __init__(self, input_size, hidden_size1, hidden_size2, output_size):\n",
        "        super().__init__()\n",
        "        self.layer1 = nn.Linear(input_size, hidden_size)\n",
        "        self.layer2 = nn.Linear(hidden_size1, hidden_size2)\n",
        "        self.layer3 = nn.Linear(hidden_size2, output_size)\n",
        "\n",
        "    def forward(self, x):\n",
        "        x = self.layer1(x)\n",
        "        x = nn.Sigmoid()(x)\n",
        "        x = self.layer2(x)\n",
        "        x = nn.Sigmoid()(x)\n",
        "        x = self.layer3(x)\n",
        "        x = nn.Softmax(dim=1)(x)\n",
        "        return x\n",
        "\n",
        "input_size = X_train_norm.shape[1]\n",
        "hidden_size1 = 16\n",
        "hidden_size2 = 8\n",
        "output_size = 3\n",
        "\n",
        "model2 = Model2(input_size, hidden_size1, hidden_size2, output_size)\n",
        "\n",
        "learning_rate = 0.001\n",
        "\n",
        "loss_fn = nn.CrossEntropyLoss()\n",
        "# https://pytorch.org/docs/stable/generated/torch.nn.CrossEntropyLoss.html\n",
        "\n",
        "# Adam -Adaptive Moment Estimation- optimizer:\n",
        "# It combines the benefits of AdaGrad and RMSProp\n",
        "# More details can be found in https://github.com/cfteach/ml4hep/blob/main/gradient/gradient_descent.ipynb\n",
        "optimizer = torch.optim.Adam(model2.parameters(), lr=learning_rate)\n"
      ],
      "metadata": {
        "id": "JaAMEO7Qosul"
      },
      "execution_count": 91,
      "outputs": []
    },
    {
      "cell_type": "code",
      "source": [
        "num_epochs = 100\n",
        "loss_hist2 = [0] * num_epochs\n",
        "accuracy_hist2 = [0] * num_epochs\n",
        "accuracy_test_hist2 = [0] * num_epochs\n",
        "\n",
        "\n",
        "for epoch in range(num_epochs):\n",
        "\n",
        "    for x_batch, y_batch in train_dl:\n",
        "        pred = model2(x_batch)\n",
        "        loss = loss_fn(pred, y_batch.long())\n",
        "        loss.backward()\n",
        "        optimizer.step()\n",
        "        optimizer.zero_grad()\n",
        "\n",
        "        loss_hist2[epoch] += loss.item()*y_batch.size(0)  # item() method used to retrieve the value of a scalar tensor as a standard Python number\n",
        "        is_correct = (torch.argmax(pred, dim=1) == y_batch).float()\n",
        "        accuracy_hist2[epoch] += is_correct.sum()\n",
        "\n",
        "    pred_test = model2(X_test_norm)\n",
        "    is_correct_test = (torch.argmax(pred_test, dim=1) == y_test).float()\n",
        "    accuracy_test_hist2[epoch] = is_correct_test.sum()/len(X_test)\n",
        "\n",
        "    loss_hist2[epoch] /= len(train_dl.dataset)\n",
        "    accuracy_hist2[epoch] /= len(train_dl.dataset)\n",
        "\n"
      ],
      "metadata": {
        "id": "jayvBheApE_s"
      },
      "execution_count": 92,
      "outputs": []
    },
    {
      "cell_type": "code",
      "source": [
        "fig = plt.figure(figsize=(12, 5))\n",
        "ax = fig.add_subplot(1, 2, 1)\n",
        "ax.plot(loss_hist, lw=3)\n",
        "ax.set_title('Training loss', size=15)\n",
        "ax.set_xlabel('Epoch', size=15)\n",
        "ax.tick_params(axis='both', which='major', labelsize=15)\n",
        "\n",
        "ax.plot(loss_hist2, lw=3)\n",
        "\n",
        "\n",
        "ax = fig.add_subplot(1, 2, 2)\n",
        "ax.plot(accuracy_hist, lw=3)\n",
        "ax.set_title('Training accuracy', size=15)\n",
        "ax.set_xlabel('Epoch', size=15)\n",
        "ax.tick_params(axis='both', which='major', labelsize=15)\n",
        "\n",
        "ax.plot(accuracy_hist2, lw=3)\n",
        "ax.plot(accuracy_test_hist2, lw=3)\n",
        "\n",
        "plt.tight_layout()\n",
        "\n",
        "#plt.savefig('figures/12_09.pdf')\n",
        "\n",
        "plt.show()"
      ],
      "metadata": {
        "colab": {
          "base_uri": "https://localhost:8080/",
          "height": 507
        },
        "id": "Qs7fuGucpQfT",
        "outputId": "94dde876-baa3-4820-d4e2-4ce90d9c5d67"
      },
      "execution_count": 93,
      "outputs": [
        {
          "output_type": "display_data",
          "data": {
            "text/plain": [
              "<Figure size 1200x500 with 2 Axes>"
            ],
            "image/png": "[encoded data removed]"
          },
          "metadata": {}
        }
      ]
    },
    {
      "cell_type": "code",
      "source": [
        "path2 = 'iris_classifier2.pt'\n",
        "torch.save(model2, path2)\n",
        "\n",
        "model_new2 = torch.load(path2)\n",
        "model_new2.eval()\n"
      ],
      "metadata": {
        "colab": {
          "base_uri": "https://localhost:8080/"
        },
        "id": "aLRqTbPwqKqk",
        "outputId": "e5e18060-cd4e-4bed-dda9-fae545712d46"
      },
      "execution_count": 94,
      "outputs": [
        {
          "output_type": "stream",
          "name": "stderr",
          "text": [
            "<ipython-input-94-c7c89b18bad7>:4: FutureWarning: You are using `torch.load` with `weights_only=False` (the current default value), which uses the default pickle module implicitly. It is possible to construct malicious pickle data which will execute arbitrary code during unpickling (See https://github.com/pytorch/pytorch/blob/main/SECURITY.md#untrusted-models for more details). In a future release, the default value for `weights_only` will be flipped to `True`. This limits the functions that could be executed during unpickling. Arbitrary objects will no longer be allowed to be loaded via this mode unless they are explicitly allowlisted by the user via `torch.serialization.add_safe_globals`. We recommend you start setting `weights_only=True` for any use case where you don't have full control of the loaded file. Please open an issue on GitHub for any issues related to this experimental feature.\n",
            "  model_new2 = torch.load(path2)\n"
          ]
        },
        {
          "output_type": "execute_result",
          "data": {
            "text/plain": [
              "Model2(\n",
              "  (layer1): Linear(in_features=4, out_features=16, bias=True)\n",
              "  (layer2): Linear(in_features=16, out_features=8, bias=True)\n",
              "  (layer3): Linear(in_features=8, out_features=3, bias=True)\n",
              ")"
            ]
          },
          "metadata": {},
          "execution_count": 94
        }
      ]
    },
    {
      "cell_type": "code",
      "source": [
        "pred_test = model_new(X_test_norm)\n",
        "\n",
        "correct = (torch.argmax(pred_test, dim=1) == y_test).float()\n",
        "accuracy = correct.mean()\n",
        "\n",
        "print(f'Test Acc.: {accuracy:.12f}')\n",
        "\n",
        "\n",
        "pred_test = model_new2(X_test_norm)\n",
        "\n",
        "correct = (torch.argmax(pred_test, dim=1) == y_test).float()\n",
        "accuracy = correct.mean()\n",
        "\n",
        "print(f'Test Acc.: {accuracy:.12f}')"
      ],
      "metadata": {
        "colab": {
          "base_uri": "https://localhost:8080/"
        },
        "id": "D6_Uccsnp8Jc",
        "outputId": "9badd902-b635-402e-deae-0bb730e6c550"
      },
      "execution_count": 95,
      "outputs": [
        {
          "output_type": "stream",
          "name": "stdout",
          "text": [
            "Test Acc.: 0.980000019073\n",
            "Test Acc.: 0.980000019073\n"
          ]
        }
      ]
    },
    {
      "cell_type": "markdown",
      "source": [],
      "metadata": {
        "id": "nxpRrcXpkQ5g"
      }
    },
    {
      "cell_type": "markdown",
      "source": [],
      "metadata": {
        "id": "fm7YdkVPkQ7w"
      }
    },
    {
      "cell_type": "markdown",
      "source": [
        "### **Appendix**"
      ],
      "metadata": {
        "id": "AIOcb6_7kQ-S"
      }
    },
    {
      "cell_type": "markdown",
      "metadata": {
        "id": "apSeZRX9eciA"
      },
      "source": [
        "### Choosing activation functions for MLP\n"
      ]
    },
    {
      "cell_type": "markdown",
      "metadata": {
        "id": "hT5may3KeciA"
      },
      "source": [
        "**Logistic function recap**"
      ]
    },
    {
      "cell_type": "code",
      "execution_count": null,
      "metadata": {
        "id": "8Ryvj2OqeciA",
        "outputId": "0970beb6-f94b-4cac-bc87-a82cc3c060de"
      },
      "outputs": [
        {
          "name": "stdout",
          "output_type": "stream",
          "text": [
            "P(y=1|x) = 0.888\n"
          ]
        }
      ],
      "source": [
        "import numpy as np\n",
        "\n",
        "X = np.array([1, 1.4, 2.5]) ## first value must be 1\n",
        "w = np.array([0.4, 0.3, 0.5])\n",
        "\n",
        "def net_input(X, w):\n",
        "    return np.dot(X, w)\n",
        "\n",
        "def logistic(z):\n",
        "    return 1.0 / (1.0 + np.exp(-z))\n",
        "\n",
        "def logistic_activation(X, w):\n",
        "    z = net_input(X, w)\n",
        "    return logistic(z)\n",
        "\n",
        "print(f'P(y=1|x) = {logistic_activation(X, w):.3f}')"
      ]
    },
    {
      "cell_type": "code",
      "execution_count": null,
      "metadata": {
        "id": "1DFC0k01eciB",
        "outputId": "07c54539-0ef2-46b0-8068-840ecb9b3c73"
      },
      "outputs": [
        {
          "name": "stdout",
          "output_type": "stream",
          "text": [
            "Net Input: \n",
            " [1.78 0.76 1.65]\n",
            "Output Units:\n",
            " [0.85569687 0.68135373 0.83889105]\n"
          ]
        }
      ],
      "source": [
        "# W : array with shape = (n_output_units, n_hidden_units+1)\n",
        "# note that the first column are the bias units\n",
        "\n",
        "W = np.array([[1.1, 1.2, 0.8, 0.4],\n",
        "              [0.2, 0.4, 1.0, 0.2],\n",
        "              [0.6, 1.5, 1.2, 0.7]])\n",
        "\n",
        "# A : data array with shape = (n_hidden_units + 1, n_samples)\n",
        "# note that the first column of this array must be 1\n",
        "\n",
        "A = np.array([[1, 0.1, 0.4, 0.6]])\n",
        "Z = np.dot(W, A[0])\n",
        "y_probas = logistic(Z)\n",
        "print('Net Input: \\n', Z)\n",
        "\n",
        "print('Output Units:\\n', y_probas)"
      ]
    },
    {
      "cell_type": "code",
      "execution_count": null,
      "metadata": {
        "id": "d9K_7jyXeciB",
        "outputId": "63eb5fe0-e7dc-42ae-8fe5-ca1dd56fed8a"
      },
      "outputs": [
        {
          "name": "stdout",
          "output_type": "stream",
          "text": [
            "Predicted class label: 0\n"
          ]
        }
      ],
      "source": [
        "y_class = np.argmax(Z, axis=0)\n",
        "print('Predicted class label:', y_class)"
      ]
    },
    {
      "cell_type": "markdown",
      "metadata": {
        "id": "IplHWFUFeciB"
      },
      "source": [
        "**Estimating class probabilities in multiclass classification via the softmax function**"
      ]
    },
    {
      "cell_type": "code",
      "execution_count": null,
      "metadata": {
        "id": "TTs31ZQ_eciB",
        "outputId": "6151335d-49cc-44e3-a445-bee63aacc3ca"
      },
      "outputs": [
        {
          "name": "stdout",
          "output_type": "stream",
          "text": [
            "Probabilities:\n",
            " [0.44668973 0.16107406 0.39223621]\n"
          ]
        },
        {
          "data": {
            "text/plain": [
              "1.0"
            ]
          },
          "execution_count": 25,
          "metadata": {},
          "output_type": "execute_result"
        }
      ],
      "source": [
        "def softmax(z):\n",
        "    return np.exp(z) / np.sum(np.exp(z))\n",
        "\n",
        "y_probas = softmax(Z)\n",
        "print('Probabilities:\\n', y_probas)\n",
        "\n",
        "np.sum(y_probas)"
      ]
    },
    {
      "cell_type": "code",
      "execution_count": null,
      "metadata": {
        "id": "1P4O4NIoeciB",
        "outputId": "4d5e5ebe-a3da-4ff9-e402-5ae050452249"
      },
      "outputs": [
        {
          "data": {
            "text/plain": [
              "tensor([0.4467, 0.1611, 0.3922], dtype=torch.float64)"
            ]
          },
          "execution_count": 26,
          "metadata": {},
          "output_type": "execute_result"
        }
      ],
      "source": [
        "torch.softmax(torch.from_numpy(Z), dim=0)"
      ]
    },
    {
      "cell_type": "markdown",
      "metadata": {
        "id": "jizZbtWmeciB"
      },
      "source": [
        "**Broadening the output spectrum using a hyperbolic tangent**"
      ]
    },
    {
      "cell_type": "code",
      "execution_count": null,
      "metadata": {
        "id": "s-xeAxR3eciB",
        "outputId": "dd63cc4b-6474-4605-b3ab-d30d95a2a371"
      },
      "outputs": [
        {
          "data": {
            "image/png": "[encoded data removed]",
            "text/plain": [
              "<Figure size 432x288 with 1 Axes>"
            ]
          },
          "metadata": {
            "needs_background": "light"
          },
          "output_type": "display_data"
        }
      ],
      "source": [
        "import matplotlib.pyplot as plt\n",
        "%matplotlib inline\n",
        "\n",
        "def tanh(z):\n",
        "    e_p = np.exp(z)\n",
        "    e_m = np.exp(-z)\n",
        "    return (e_p - e_m) / (e_p + e_m)\n",
        "\n",
        "z = np.arange(-5, 5, 0.005)\n",
        "log_act = logistic(z)\n",
        "tanh_act = tanh(z)\n",
        "plt.ylim([-1.5, 1.5])\n",
        "plt.xlabel('Net input $z$')\n",
        "plt.ylabel('Activation $\\phi(z)$')\n",
        "plt.axhline(1, color='black', linestyle=':')\n",
        "plt.axhline(0.5, color='black', linestyle=':')\n",
        "plt.axhline(0, color='black', linestyle=':')\n",
        "plt.axhline(-0.5, color='black', linestyle=':')\n",
        "plt.axhline(-1, color='black', linestyle=':')\n",
        "plt.plot(z, tanh_act,\n",
        "    linewidth=3, linestyle='--',\n",
        "    label='Tanh')\n",
        "plt.plot(z, log_act,\n",
        "    linewidth=3,\n",
        "    label='Logistic')\n",
        "plt.legend(loc='lower right')\n",
        "plt.tight_layout()\n",
        "\n",
        "plt.show()"
      ]
    },
    {
      "cell_type": "code",
      "execution_count": null,
      "metadata": {
        "id": "OSIXGbBieciC",
        "outputId": "d9550fdb-1537-4d09-ae9f-8c8ad85d7b95"
      },
      "outputs": [
        {
          "data": {
            "text/plain": [
              "array([-0.9999092 , -0.99990829, -0.99990737, ...,  0.99990644,\n",
              "        0.99990737,  0.99990829])"
            ]
          },
          "execution_count": 28,
          "metadata": {},
          "output_type": "execute_result"
        }
      ],
      "source": [
        "np.tanh(z)"
      ]
    },
    {
      "cell_type": "code",
      "execution_count": null,
      "metadata": {
        "id": "JT8-k8B6eciC",
        "outputId": "af444c67-19ce-46f1-a237-6a31cc04db18"
      },
      "outputs": [
        {
          "data": {
            "text/plain": [
              "tensor([-0.9999, -0.9999, -0.9999,  ...,  0.9999,  0.9999,  0.9999],\n",
              "       dtype=torch.float64)"
            ]
          },
          "execution_count": 29,
          "metadata": {},
          "output_type": "execute_result"
        }
      ],
      "source": [
        "torch.tanh(torch.from_numpy(z))\n",
        ""
      ]
    },
    {
      "cell_type": "code",
      "execution_count": null,
      "metadata": {
        "id": "TM85mH8WeciC",
        "outputId": "7d20d3c1-ba88-44d5-b006-c759965cb865"
      },
      "outputs": [
        {
          "data": {
            "text/plain": [
              "array([0.00669285, 0.00672617, 0.00675966, ..., 0.99320669, 0.99324034,\n",
              "       0.99327383])"
            ]
          },
          "execution_count": 30,
          "metadata": {},
          "output_type": "execute_result"
        }
      ],
      "source": [
        "from scipy.special import expit\n",
        "\n",
        "expit(z)"
      ]
    },
    {
      "cell_type": "code",
      "execution_count": null,
      "metadata": {
        "id": "DgDC5Q2AeciC",
        "outputId": "749cc9a6-5653-4ea9-b83b-f32bddfeedfd"
      },
      "outputs": [
        {
          "data": {
            "text/plain": [
              "tensor([0.0067, 0.0067, 0.0068,  ..., 0.9932, 0.9932, 0.9933],\n",
              "       dtype=torch.float64)"
            ]
          },
          "execution_count": 31,
          "metadata": {},
          "output_type": "execute_result"
        }
      ],
      "source": [
        "torch.sigmoid(torch.from_numpy(z))"
      ]
    },
    {
      "cell_type": "markdown",
      "metadata": {
        "id": "hFEPQ6cPeciC"
      },
      "source": [
        "**Rectified linear unit activation**"
      ]
    },
    {
      "cell_type": "code",
      "execution_count": null,
      "metadata": {
        "id": "5RW8wiAzeciC",
        "outputId": "55b4ebe4-3352-45d2-e4a5-e6780e4ac832"
      },
      "outputs": [
        {
          "data": {
            "text/plain": [
              "tensor([0.0000, 0.0000, 0.0000,  ..., 4.9850, 4.9900, 4.9950],\n",
              "       dtype=torch.float64)"
            ]
          },
          "execution_count": 32,
          "metadata": {},
          "output_type": "execute_result"
        }
      ],
      "source": [
        "torch.relu(torch.from_numpy(z))"
      ]
    }
  ],
  "metadata": {
    "kernelspec": {
      "display_name": "Python 3 (ipykernel)",
      "language": "python",
      "name": "python3"
    },
    "language_info": {
      "codemirror_mode": {
        "name": "ipython",
        "version": 3
      },
      "file_extension": ".py",
      "mimetype": "text/x-python",
      "name": "python",
      "nbconvert_exporter": "python",
      "pygments_lexer": "ipython3",
      "version": "3.8.8"
    },
    "toc-showmarkdowntxt": false,
    "toc-showtags": false,
    "colab": {
      "provenance": []
    }
  },
  "nbformat": 4,
  "nbformat_minor": 0
}
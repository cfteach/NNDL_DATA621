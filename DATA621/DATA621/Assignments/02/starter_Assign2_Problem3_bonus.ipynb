{
 "cells": [
  {
   "cell_type": "markdown",
   "metadata": {},
   "source": [
    "# Bonus Problem [15 points]\n",
    "\n",
    "In this question, you will explore the power of PyTorch by implementing a sparsely connected Multi-Layer Perceptron (MLP) for classifying the MNIST dataset. The goal is to understand how PyTorch dynamically builds computational graphs during the forward pass, and to see how sparse connections impact network performance. You will compare the performance of a fully connected MLP with that of a sparsely connected one."
   ]
  },
  {
   "cell_type": "code",
   "execution_count": null,
   "metadata": {},
   "outputs": [],
   "source": [
    "! pip install torch torchvision numpy pandas matplotlib"
   ]
  },
  {
   "cell_type": "markdown",
   "metadata": {},
   "source": [
    "## P.3.1: Sparsely connected MLP"
   ]
  },
  {
   "cell_type": "code",
   "execution_count": 1,
   "metadata": {},
   "outputs": [],
   "source": [
    "import torch\n",
    "from torch import nn\n",
    "class DynamicNet(nn.Module):\n",
    "    def __init__(self):\n",
    "        super(DynamicNet, self).__init__()\n",
    "        pass\n",
    "\n",
    "    def forward(self, x):\n",
    "        pass"
   ]
  }
 ],
 "metadata": {
  "kernelspec": {
   "display_name": "env_NNDL2024",
   "language": "python",
   "name": "python3"
  },
  "language_info": {
   "codemirror_mode": {
    "name": "ipython",
    "version": 3
   },
   "file_extension": ".py",
   "mimetype": "text/x-python",
   "name": "python",
   "nbconvert_exporter": "python",
   "pygments_lexer": "ipython3",
   "version": "3.12.2"
  }
 },
 "nbformat": 4,
 "nbformat_minor": 2
}

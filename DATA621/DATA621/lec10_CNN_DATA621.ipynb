{
  "cells": [
    {
      "cell_type": "markdown",
      "source": [
        "Credits: Raschka et al., Chap 14"
      ],
      "metadata": {
        "id": "j-rjGpJ2EyXG"
      }
    },
    {
      "cell_type": "markdown",
      "metadata": {
        "tags": [],
        "id": "gXkjB0jtHtKj"
      },
      "source": [
        "## Convolutional Neural Network - Part 1"
      ]
    },
    {
      "cell_type": "code",
      "source": [
        "from IPython.display import Image\n",
        "from IPython.display import display\n",
        "%matplotlib inline"
      ],
      "metadata": {
        "id": "ofTXzs6ND86Q"
      },
      "execution_count": 165,
      "outputs": []
    },
    {
      "cell_type": "markdown",
      "metadata": {
        "id": "cXtvlxzOHtKp"
      },
      "source": [
        "**Outline**\n",
        "\n",
        "- [The building blocks of CNNs](#The-building-blocks-of-CNNs)\n",
        "  - [Understanding CNNs and feature hierarchies](#Understanding-CNNs-and-feature-hierarchies)\n",
        "  - [Performing discrete convolutions](#Performing-discrete-convolutions)\n",
        "    - [Discrete convolutions in one dimension](#Discrete-convolutions-in-one-dimension)\n",
        "    - [Padding inputs to control the size of the output feature maps](#Padding-inputs-to-control-the-size-of-the-output-feature-maps)\n",
        "    - [Determining the size of the convolution output](#Determining-the-size-of-the-convolution-output)\n",
        "    - [Performing a discrete convolution in 2D](#Performing-a-discrete-convolution-in-2D)\n",
        "  - [Subsampling layers](#Subsampling-layers)\n",
        "- [Putting everything together -- implementing a CNN](#Putting-everything-together----implementing-a-CNN)\n",
        "  - [Working with multiple input or color channels](#Working-with-multiple-input-or-color-channels)\n",
        "  - [Regularizing an NN with L2 regularization and dropout](#Regularizing-an-NN-with-L2-regularization-and-dropout)\n",
        "  - [Loss functions for classification](#Loss-functions-for-classification)\n",
        "- [Implementing a deep CNN using PyTorch](#Implementing-a-deep-CNN-using-PyTorch)\n",
        "  - [The multilayer CNN architecture](#The-multilayer-CNN-architecture)\n",
        "  - [Loading and preprocessing the data](#Loading-and-preprocessing-the-data)\n",
        "  - [Implementing a CNN using the torch.nn module](#Implementing-a-CNN-using-the-torch.nn-module)\n",
        "    - [Configuring CNN layers in PyTorch](#Configuring-CNN-layers-in-PyTorch)\n",
        "    - [Constructing a CNN in PyTorch](#Constructing-a-CNN-in-PyTorch)"
      ]
    },
    {
      "cell_type": "markdown",
      "metadata": {
        "id": "MSizYCkWHtKp"
      },
      "source": [
        "###  The building blocks of convolutional neural networks\n"
      ]
    },
    {
      "cell_type": "markdown",
      "source": [
        "CNN inspired by the functioning of the visual cortex in our brain.\n",
        "Experiment in 1959 with an anesthetized cat.\n",
        "Neurons respond differentlt after projecting different patterns of light in front of the cat.\n",
        "Primary layers of the viual cortex detects edges and straight lines, highger order layers focus more on extracting complex shapes.  "
      ],
      "metadata": {
        "id": "ZZXkVbbOFBc7"
      }
    },
    {
      "cell_type": "markdown",
      "source": [
        "In CNN, early layers extract low-level features from the raw data, later layers (often fully connected as in MLP) use these features to predict a target value.\n",
        "\n",
        "CNN typically perform well on image data.\n",
        "\n",
        "In Fig. 1, you see how to create **feature maps** from an image.\n",
        "The local patch of pixels is referred to as **local receptive field**."
      ],
      "metadata": {
        "id": "n2mzAjtQFeaZ"
      }
    },
    {
      "cell_type": "code",
      "execution_count": 164,
      "metadata": {
        "id": "g83WSCLAHtKq",
        "outputId": "0c51a4a6-db1c-4f3f-b945-b31bdcaa9d7a",
        "colab": {
          "base_uri": "https://localhost:8080/",
          "height": 386
        }
      },
      "outputs": [
        {
          "output_type": "display_data",
          "data": {
            "text/html": [
              "<img src=\"https://raw.githubusercontent.com/cfteach/NNDL_DATA621/webpage-src/DATA621/DATA621/images/Fig1_lec10.png\" width=\"900\"/>"
            ],
            "text/plain": [
              "<IPython.core.display.Image object>"
            ]
          },
          "metadata": {}
        }
      ],
      "source": [
        "# FIG 1\n",
        "display(Image(url=\"https://raw.githubusercontent.com/cfteach/NNDL_DATA621/webpage-src/DATA621/DATA621/images/Fig1_lec10.png\", width=900))"
      ]
    },
    {
      "cell_type": "markdown",
      "source": [
        "CNN performs well on image-related tasks largely due to two ideas:\n",
        "\n",
        "* **Sparse connectivity**: A single element in the feature map is connected to only a small patch of pixels. This is very different from MLP (connections to the whole image).\n",
        "\n",
        "* **Parameter sharing**: : The same weights are used for different patches of the input image."
      ],
      "metadata": {
        "id": "QYFWoQwGGEZg"
      }
    },
    {
      "cell_type": "markdown",
      "source": [
        "CNN made of following layers:\n",
        "\n",
        "* convolutional -> have learnable parameters\n",
        "\n",
        "* subsampling -> no learnable parameters\n",
        "\n",
        "* fully connected -> have learnable parameters"
      ],
      "metadata": {
        "id": "SW2tjjQrGfKR"
      }
    },
    {
      "cell_type": "markdown",
      "metadata": {
        "id": "TF6jO_FuHtKq"
      },
      "source": [
        "\n",
        "\n",
        "### Performing discrete convolutions\n",
        "\n",
        "**Discrete convolutions in one dimension**\n",
        "\n"
      ]
    },
    {
      "cell_type": "markdown",
      "source": [
        "https://en.wikipedia.org/wiki/Convolution\n",
        "\n",
        "We want to achieve this through a **filter** (**w**) :\n",
        "\n",
        "$$ y[i] = \\sum_{k=-\\infty}^{+\\infty} x[i - k] w[k] $$\n"
      ],
      "metadata": {
        "id": "_4MEGkeqHBvH"
      }
    },
    {
      "cell_type": "markdown",
      "source": [
        "First thing we need to do is **padding**.\n"
      ],
      "metadata": {
        "id": "yQloPO0eHUDY"
      }
    },
    {
      "cell_type": "code",
      "execution_count": 159,
      "metadata": {
        "id": "82Zr9auaHtKq",
        "outputId": "b8a5e59b-dff4-44e2-f3ce-9f20ba4fbb11",
        "colab": {
          "base_uri": "https://localhost:8080/",
          "height": 242
        }
      },
      "outputs": [
        {
          "output_type": "display_data",
          "data": {
            "text/html": [
              "<img src=\"https://raw.githubusercontent.com/cfteach/NNDL_DATA621/webpage-src/DATA621/DATA621/images/Fig2_lec10.png\" width=\"600\"/>"
            ],
            "text/plain": [
              "<IPython.core.display.Image object>"
            ]
          },
          "metadata": {}
        }
      ],
      "source": [
        "\n",
        "\n",
        "# FIG 2\n",
        "display(Image(url=\"https://raw.githubusercontent.com/cfteach/NNDL_DATA621/webpage-src/DATA621/DATA621/images/Fig2_lec10.png\", width=600))"
      ]
    },
    {
      "cell_type": "code",
      "execution_count": 158,
      "metadata": {
        "id": "pEWr7ARiHtKq",
        "outputId": "0cdabaa4-5f19-40fd-a6ba-8b158901e280",
        "colab": {
          "base_uri": "https://localhost:8080/",
          "height": 393
        }
      },
      "outputs": [
        {
          "output_type": "display_data",
          "data": {
            "text/html": [
              "<img src=\"https://raw.githubusercontent.com/cfteach/NNDL_DATA621/webpage-src/DATA621/DATA621/images/Fig3_lec10.png\" width=\"600\"/>"
            ],
            "text/plain": [
              "<IPython.core.display.Image object>"
            ]
          },
          "metadata": {}
        }
      ],
      "source": [
        "# FIG 3\n",
        "display(Image(url=\"https://raw.githubusercontent.com/cfteach/NNDL_DATA621/webpage-src/DATA621/DATA621/images/Fig3_lec10.png\", width=600))"
      ]
    },
    {
      "cell_type": "markdown",
      "metadata": {
        "id": "l7dcM4E5HtKr"
      },
      "source": [
        "### Padding inputs to control the size of the output feature maps\n",
        "\n"
      ]
    },
    {
      "cell_type": "code",
      "execution_count": 157,
      "metadata": {
        "id": "liFu8IqVHtKr",
        "outputId": "539f55ee-1172-4ba2-bc9c-dedbf9566f5a",
        "colab": {
          "base_uri": "https://localhost:8080/",
          "height": 210
        }
      },
      "outputs": [
        {
          "output_type": "display_data",
          "data": {
            "text/html": [
              "<img src=\"https://raw.githubusercontent.com/cfteach/NNDL_DATA621/webpage-src/DATA621/DATA621/images/Fig4_lec10.png\" width=\"600\"/>"
            ],
            "text/plain": [
              "<IPython.core.display.Image object>"
            ]
          },
          "metadata": {}
        }
      ],
      "source": [
        "# FIG 4\n",
        "display(Image(url=\"https://raw.githubusercontent.com/cfteach/NNDL_DATA621/webpage-src/DATA621/DATA621/images/Fig4_lec10.png\", width=600))"
      ]
    },
    {
      "cell_type": "markdown",
      "metadata": {
        "id": "A0Z3Sn-5HtKr"
      },
      "source": [
        "### Determining the size of the convolution output"
      ]
    },
    {
      "cell_type": "markdown",
      "source": [
        "An important formula to remember is\n",
        "\n",
        "$$ o = \\left\\lfloor \\frac{n + 2p - m}{s} \\right\\rfloor + 1 $$\n",
        "\n",
        "which gives the convolution output"
      ],
      "metadata": {
        "id": "6nml2OpgH4Dy"
      }
    },
    {
      "cell_type": "code",
      "execution_count": null,
      "metadata": {
        "id": "suVMia59HtKs",
        "outputId": "a216571e-ad86-4f64-a7e4-fb929cca0af7"
      },
      "outputs": [
        {
          "name": "stdout",
          "output_type": "stream",
          "text": [
            "PyTorch version: 1.10.1+cu102\n",
            "NumPy version:  1.22.0\n"
          ]
        }
      ],
      "source": [
        "import torch\n",
        "import numpy as np\n",
        "\n",
        "print('PyTorch version:', torch.__version__)\n",
        "print('NumPy version: ', np.__version__)"
      ]
    },
    {
      "cell_type": "code",
      "source": [
        "import numpy as np"
      ],
      "metadata": {
        "id": "rxA-uGM7AH3f"
      },
      "execution_count": 166,
      "outputs": []
    },
    {
      "cell_type": "code",
      "source": [
        "w = [1, 0, 3, 1, 2]"
      ],
      "metadata": {
        "id": "OFZwE8ACAJ_u"
      },
      "execution_count": null,
      "outputs": []
    },
    {
      "cell_type": "code",
      "source": [
        "np.shape(w)"
      ],
      "metadata": {
        "colab": {
          "base_uri": "https://localhost:8080/"
        },
        "id": "e6tgzt5JAMQH",
        "outputId": "bead2075-f789-4b87-e849-fe3ee2ba7c94"
      },
      "execution_count": null,
      "outputs": [
        {
          "output_type": "execute_result",
          "data": {
            "text/plain": [
              "(5,)"
            ]
          },
          "metadata": {},
          "execution_count": 9
        }
      ]
    },
    {
      "cell_type": "code",
      "source": [
        "w[: :-1]"
      ],
      "metadata": {
        "colab": {
          "base_uri": "https://localhost:8080/"
        },
        "id": "ZF2xeClaASQr",
        "outputId": "b482d1ef-d474-45b2-ec18-39201dc9e7ce"
      },
      "execution_count": null,
      "outputs": [
        {
          "output_type": "execute_result",
          "data": {
            "text/plain": [
              "[2, 1, 3, 0, 1]"
            ]
          },
          "metadata": {},
          "execution_count": 12
        }
      ]
    },
    {
      "cell_type": "code",
      "source": [
        "w = np.zeros((4,5))"
      ],
      "metadata": {
        "id": "N-Li-pchAnFY"
      },
      "execution_count": null,
      "outputs": []
    },
    {
      "cell_type": "code",
      "source": [
        "np.shape(w)"
      ],
      "metadata": {
        "colab": {
          "base_uri": "https://localhost:8080/"
        },
        "id": "gYaCUu13Apai",
        "outputId": "3b9419fc-b993-497d-b52a-f99be55c033a"
      },
      "execution_count": null,
      "outputs": [
        {
          "output_type": "execute_result",
          "data": {
            "text/plain": [
              "(4, 5)"
            ]
          },
          "metadata": {},
          "execution_count": 14
        }
      ]
    },
    {
      "cell_type": "code",
      "source": [
        "w[2,3]=-17\n",
        "w[1,2]=3.\n",
        "w[3,1] =2."
      ],
      "metadata": {
        "id": "rRDNPeuVAqrL"
      },
      "execution_count": null,
      "outputs": []
    },
    {
      "cell_type": "code",
      "source": [
        "w"
      ],
      "metadata": {
        "colab": {
          "base_uri": "https://localhost:8080/"
        },
        "id": "AwpyftKRAtKu",
        "outputId": "9d90d606-9612-4a1d-999b-c0c1bf362f7f"
      },
      "execution_count": null,
      "outputs": [
        {
          "output_type": "execute_result",
          "data": {
            "text/plain": [
              "array([[  0.,   0.,   0.,   0.,   0.],\n",
              "       [  0.,   0.,   3.,   0.,   0.],\n",
              "       [  0.,   0.,   0., -17.,   0.],\n",
              "       [  0.,   2.,   0.,   0.,   0.]])"
            ]
          },
          "metadata": {},
          "execution_count": 20
        }
      ]
    },
    {
      "cell_type": "code",
      "source": [
        "w[: : -2]"
      ],
      "metadata": {
        "colab": {
          "base_uri": "https://localhost:8080/"
        },
        "id": "PB1AFoxVAznL",
        "outputId": "ef8bd042-d7bf-4a9c-cfb7-8c6c33def21e"
      },
      "execution_count": null,
      "outputs": [
        {
          "output_type": "execute_result",
          "data": {
            "text/plain": [
              "array([[0., 2., 0., 0., 0.],\n",
              "       [0., 0., 3., 0., 0.]])"
            ]
          },
          "metadata": {},
          "execution_count": 37
        }
      ]
    },
    {
      "cell_type": "code",
      "source": [
        "w[: -2]"
      ],
      "metadata": {
        "colab": {
          "base_uri": "https://localhost:8080/"
        },
        "id": "bw38-lDOBifi",
        "outputId": "25003685-e797-4b34-a5e5-8af9a6f429aa"
      },
      "execution_count": null,
      "outputs": [
        {
          "output_type": "execute_result",
          "data": {
            "text/plain": [
              "array([[0., 0., 0., 0., 0.],\n",
              "       [0., 0., 3., 0., 0.]])"
            ]
          },
          "metadata": {},
          "execution_count": 41
        }
      ]
    },
    {
      "cell_type": "code",
      "source": [
        "w = [1, 0, 3, 1, 2]"
      ],
      "metadata": {
        "id": "imgqAOm-BwMx"
      },
      "execution_count": null,
      "outputs": []
    },
    {
      "cell_type": "code",
      "source": [
        "w[: : -1]"
      ],
      "metadata": {
        "colab": {
          "base_uri": "https://localhost:8080/"
        },
        "id": "MUxgFTzWByr8",
        "outputId": "1b854656-38d2-4d0d-b804-471e6eb3eca6"
      },
      "execution_count": null,
      "outputs": [
        {
          "output_type": "execute_result",
          "data": {
            "text/plain": [
              "[2, 1, 3, 0, 1]"
            ]
          },
          "metadata": {},
          "execution_count": 43
        }
      ]
    },
    {
      "cell_type": "code",
      "source": [
        "for i in range(0,10,2):\n",
        "  print(i)"
      ],
      "metadata": {
        "colab": {
          "base_uri": "https://localhost:8080/"
        },
        "id": "ZQbTpyrpFfV2",
        "outputId": "8a350115-e204-4d9f-fb22-d75e7a605d63"
      },
      "execution_count": 2,
      "outputs": [
        {
          "output_type": "stream",
          "name": "stdout",
          "text": [
            "0\n",
            "2\n",
            "4\n",
            "6\n",
            "8\n"
          ]
        }
      ]
    },
    {
      "cell_type": "code",
      "execution_count": 13,
      "metadata": {
        "colab": {
          "base_uri": "https://localhost:8080/"
        },
        "id": "g0CHCsmxHtKs",
        "outputId": "3a159935-c71f-4a15-b25f-0a5ee168919f"
      },
      "outputs": [
        {
          "output_type": "stream",
          "name": "stdout",
          "text": [
            "[2 1 3 0 1]\n",
            "(5,)\n",
            "5\n",
            "Conv1d Implementation: [ 5. 14. 16. 26. 24. 34. 19. 22.]\n",
            "Numpy Results: [ 5 14 16 26 24 34 19 22]\n"
          ]
        }
      ],
      "source": [
        "def conv1d(x, w, p=0, s=1):\n",
        "    w_rot = np.array(w[::-1])\n",
        "    x_padded = np.array(x)\n",
        "    if p > 0:\n",
        "        zero_pad = np.zeros(shape=p)\n",
        "        x_padded = np.concatenate(\n",
        "            [zero_pad, x_padded, zero_pad])\n",
        "    res = []\n",
        "    for i in range(0, (int((len(x_padded) - len(w_rot))/s) + 1), s):\n",
        "        res.append(np.sum(\n",
        "            x_padded[i:i + w_rot.shape[0]] * w_rot))\n",
        "    return np.array(res)\n",
        "\n",
        "\n",
        "## Testing:\n",
        "x = [1, 3, 2, 4, 5, 6, 1, 3]\n",
        "w = [1, 0, 3, 1, 2]\n",
        "\n",
        "print(np.array(w[::-1]))\n",
        "print(np.shape(np.array(w[::-1])))\n",
        "print(np.array(w[::-1]).shape[0])\n",
        "\n",
        "print('Conv1d Implementation:',\n",
        "      conv1d(x, w, p=2, s=1))\n",
        "\n",
        "print('Numpy Results:',\n",
        "      np.convolve(x, w, mode='same'))"
      ]
    },
    {
      "cell_type": "code",
      "source": [
        "w = np.zeros((3,3))\n",
        "w[1,2]=-1.\n",
        "w[0,1]=3.\n",
        "w[2,1]=2.\n",
        "print(w)"
      ],
      "metadata": {
        "id": "-_0UVNUHBySw",
        "colab": {
          "base_uri": "https://localhost:8080/"
        },
        "outputId": "6bc257e8-a4fe-4ae1-d290-085f057bb5a2"
      },
      "execution_count": 19,
      "outputs": [
        {
          "output_type": "stream",
          "name": "stdout",
          "text": [
            "[[ 0.  3.  0.]\n",
            " [ 0.  0. -1.]\n",
            " [ 0.  2.  0.]]\n"
          ]
        }
      ]
    },
    {
      "cell_type": "code",
      "source": [
        "w[::-1, ::-1]"
      ],
      "metadata": {
        "colab": {
          "base_uri": "https://localhost:8080/"
        },
        "id": "hp4bRDAGQ1LJ",
        "outputId": "ecfe61ad-e58f-49fb-d6ef-2c5008226087"
      },
      "execution_count": 21,
      "outputs": [
        {
          "output_type": "execute_result",
          "data": {
            "text/plain": [
              "array([[ 0.,  2.,  0.],\n",
              "       [-1.,  0.,  0.],\n",
              "       [ 0.,  3.,  0.]])"
            ]
          },
          "metadata": {},
          "execution_count": 21
        }
      ]
    },
    {
      "cell_type": "markdown",
      "metadata": {
        "id": "ZiBHv7aRHtKs"
      },
      "source": [
        "### Performing a discrete convolution in 2D\n",
        "\n",
        "\n"
      ]
    },
    {
      "cell_type": "code",
      "execution_count": 156,
      "metadata": {
        "id": "v3YD6S5bHtKt",
        "outputId": "fc663407-b594-46b7-c7b1-ac2fdc1da24d",
        "colab": {
          "base_uri": "https://localhost:8080/",
          "height": 358
        }
      },
      "outputs": [
        {
          "output_type": "display_data",
          "data": {
            "text/html": [
              "<img src=\"https://raw.githubusercontent.com/cfteach/NNDL_DATA621/webpage-src/DATA621/DATA621/images/Fig5_lec10.png\" width=\"600\"/>"
            ],
            "text/plain": [
              "<IPython.core.display.Image object>"
            ]
          },
          "metadata": {}
        }
      ],
      "source": [
        "# FIG 5\n",
        "display(Image(url=\"https://raw.githubusercontent.com/cfteach/NNDL_DATA621/webpage-src/DATA621/DATA621/images/Fig5_lec10.png\", width=600))"
      ]
    },
    {
      "cell_type": "markdown",
      "source": [
        "Suppose you want to do this convolution\n"
      ],
      "metadata": {
        "id": "gUb3ZPF_IjKo"
      }
    },
    {
      "cell_type": "code",
      "source": [
        "# conv 2d\n",
        "display(Image(url=\"https://raw.githubusercontent.com/cfteach/NNDL_DATA621/webpage-src/DATA621/DATA621/images/conv2d_lec10.png\", width=600))"
      ],
      "metadata": {
        "colab": {
          "base_uri": "https://localhost:8080/",
          "height": 353
        },
        "id": "ozAV_tUEIiqX",
        "outputId": "c905f4fa-abb8-441a-d9d1-8709e4c310e1"
      },
      "execution_count": 167,
      "outputs": [
        {
          "output_type": "display_data",
          "data": {
            "text/html": [
              "<img src=\"https://raw.githubusercontent.com/cfteach/NNDL_DATA621/webpage-src/DATA621/DATA621/images/conv2d_lec10.png\" width=\"600\"/>"
            ],
            "text/plain": [
              "<IPython.core.display.Image object>"
            ]
          },
          "metadata": {}
        }
      ]
    },
    {
      "cell_type": "code",
      "execution_count": 155,
      "metadata": {
        "id": "gg-3xkKbHtKt",
        "outputId": "a5dd3bfd-cd0b-49e9-a8fd-0e99b666be74",
        "colab": {
          "base_uri": "https://localhost:8080/",
          "height": 286
        }
      },
      "outputs": [
        {
          "output_type": "display_data",
          "data": {
            "text/html": [
              "<img src=\"https://raw.githubusercontent.com/cfteach/NNDL_DATA621/webpage-src/DATA621/DATA621/images/Fig6_lec10.png\" width=\"600\"/>"
            ],
            "text/plain": [
              "<IPython.core.display.Image object>"
            ]
          },
          "metadata": {}
        }
      ],
      "source": [
        "# FIG 6\n",
        "display(Image(url=\"https://raw.githubusercontent.com/cfteach/NNDL_DATA621/webpage-src/DATA621/DATA621/images/Fig6_lec10.png\", width=600))"
      ]
    },
    {
      "cell_type": "code",
      "execution_count": 34,
      "metadata": {
        "id": "XP9-kqTXHtKt",
        "outputId": "bc194cd3-7930-4247-af69-4384540edf61",
        "colab": {
          "base_uri": "https://localhost:8080/"
        }
      },
      "outputs": [
        {
          "output_type": "stream",
          "name": "stdout",
          "text": [
            "[[1 1 0]\n",
            " [1 2 1]\n",
            " [3 0 1]]\n",
            "Conv2d Implementation:\n",
            " [[11. 25. 32. 13.]\n",
            " [19. 25. 24. 13.]\n",
            " [13. 28. 25. 17.]\n",
            " [11. 17. 14.  9.]]\n",
            "SciPy Results:\n",
            " [[11 25 32 13]\n",
            " [19 25 24 13]\n",
            " [13 28 25 17]\n",
            " [11 17 14  9]]\n"
          ]
        }
      ],
      "source": [
        "import scipy.signal\n",
        "\n",
        "\n",
        "def conv2d(X, W, p=(0, 0), s=(1, 1)):\n",
        "    W_rot = np.array(W)[::-1,::-1]\n",
        "    X_orig = np.array(X)\n",
        "    n1 = X_orig.shape[0] + 2*p[0]\n",
        "    n2 = X_orig.shape[1] + 2*p[1]\n",
        "    X_padded = np.zeros(shape=(n1, n2))\n",
        "    X_padded[p[0]:p[0]+X_orig.shape[0],\n",
        "    p[1]:p[1]+X_orig.shape[1]] = X_orig\n",
        "\n",
        "    print(W_rot)\n",
        "\n",
        "    res = []\n",
        "    for i in range(0, (int((X_padded.shape[0] -\n",
        "                            W_rot.shape[0]) / s[0]) + 1)* s[0], s[0]):\n",
        "        res.append([])\n",
        "        for j in range(0, (int((X_padded.shape[1] -\n",
        "                                W_rot.shape[1]) / s[1]) + 1)* s[1], s[1]):\n",
        "            X_sub = X_padded[i:i + W_rot.shape[0],\n",
        "                    j:j + W_rot.shape[1]]\n",
        "            res[-1].append(np.sum(X_sub * W_rot))\n",
        "    return(np.array(res))\n",
        "\n",
        "X = [[1, 3, 2, 4], [5, 6, 1, 3], [1, 2, 0, 2], [3, 4, 3, 2]]\n",
        "W = [[1, 0, 3], [1, 2, 1], [0, 1, 1]]\n",
        "\n",
        "print('Conv2d Implementation:\\n',\n",
        "    conv2d(X, W, p=(1, 1), s=(1, 1)))\n",
        "\n",
        "\n",
        "print('SciPy Results:\\n',\n",
        "    scipy.signal.convolve2d(X, W, mode='same'))\n"
      ]
    },
    {
      "cell_type": "markdown",
      "metadata": {
        "id": "9joF7dlIHtKu"
      },
      "source": [
        "### Subsampling layers"
      ]
    },
    {
      "cell_type": "code",
      "execution_count": 154,
      "metadata": {
        "id": "Ur_dZQUCHtKu",
        "outputId": "e990bb40-1a99-4b96-da4a-caf8b51e6cc9",
        "colab": {
          "base_uri": "https://localhost:8080/",
          "height": 317
        }
      },
      "outputs": [
        {
          "output_type": "display_data",
          "data": {
            "text/html": [
              "<img src=\"https://raw.githubusercontent.com/cfteach/NNDL_DATA621/webpage-src/DATA621/DATA621/images/Fig7_lec10.png\" width=\"600\"/>"
            ],
            "text/plain": [
              "<IPython.core.display.Image object>"
            ]
          },
          "metadata": {}
        }
      ],
      "source": [
        "# FIG 7\n",
        "display(Image(url=\"https://raw.githubusercontent.com/cfteach/NNDL_DATA621/webpage-src/DATA621/DATA621/images/Fig7_lec10.png\", width=600))"
      ]
    },
    {
      "cell_type": "markdown",
      "metadata": {
        "id": "qgAlydJRHtKu"
      },
      "source": [
        "### Putting everything together – implementing a CNN\n",
        "\n",
        "**Working with multiple input or color channels**\n",
        "\n"
      ]
    },
    {
      "cell_type": "code",
      "execution_count": 153,
      "metadata": {
        "id": "O5ZZvN4iHtKu",
        "outputId": "8fb6c7f1-587f-4383-bfe2-a59061ee2df9",
        "colab": {
          "base_uri": "https://localhost:8080/",
          "height": 322
        }
      },
      "outputs": [
        {
          "output_type": "display_data",
          "data": {
            "text/html": [
              "<img src=\"https://raw.githubusercontent.com/cfteach/NNDL_DATA621/webpage-src/DATA621/DATA621/images/Fig8_lec10.png\" width=\"600\"/>"
            ],
            "text/plain": [
              "<IPython.core.display.Image object>"
            ]
          },
          "metadata": {}
        }
      ],
      "source": [
        "# FIG 8\n",
        "display(Image(url=\"https://raw.githubusercontent.com/cfteach/NNDL_DATA621/webpage-src/DATA621/DATA621/images/Fig8_lec10.png\", width=600))"
      ]
    },
    {
      "cell_type": "markdown",
      "metadata": {
        "id": "Z63fUenCHtKu"
      },
      "source": [
        "**TIP: Reading an image file**"
      ]
    },
    {
      "cell_type": "code",
      "source": [
        "import torch\n",
        "from torchvision.io import read_image\n",
        "import requests\n",
        "from io import BytesIO\n",
        "import tempfile\n",
        "\n",
        "# Direct image URL\n",
        "url = \"http://www.originlab.com/www/products/images/ChannelSplit_Merge.png\"\n",
        "\n",
        "# Fetch the image from the web\n",
        "response = requests.get(url, allow_redirects=True)\n",
        "\n",
        "# Get the content type of the image (e.g., 'image/png', 'image/jpeg')\n",
        "content_type = response.headers['Content-Type']\n",
        "\n",
        "# Determine the correct file extension based on the content type\n",
        "if 'image/jpeg' in content_type:\n",
        "    file_extension = \".jpg\"\n",
        "elif 'image/png' in content_type:\n",
        "    file_extension = \".png\"\n",
        "elif 'image/gif' in content_type:\n",
        "    file_extension = \".gif\"\n",
        "else:\n",
        "    raise ValueError(f\"Unsupported image type: {content_type}\")\n",
        "\n",
        "# Check if the response contains an image\n",
        "if 'image' in content_type:\n",
        "    img_bytes = BytesIO(response.content)  # Store the image in a BytesIO object\n",
        "\n",
        "    # Create a temporary file with the correct extension to save the image\n",
        "    with tempfile.NamedTemporaryFile(suffix=file_extension) as tmp:\n",
        "        tmp.write(img_bytes.getvalue())  # Write the image data to the temp file\n",
        "        tmp.flush()  # Ensure the data is written to disk\n",
        "\n",
        "        # Use torchvision's read_image to read the image from the temporary file\n",
        "        img = read_image(tmp.name)  # tmp.name gives the file path\n",
        "\n",
        "    # Check image properties\n",
        "    print('Image shape:', img.shape)  # Tensor shape: [Channels, Height, Width]\n",
        "    print('Number of channels:', img.shape[0])\n",
        "    print('Image data type:', img.dtype)\n",
        "\n",
        "    # Select a sub-block of the image\n",
        "    print(img[:, 100:102, 100:102])\n",
        "\n",
        "else:\n",
        "    print(f\"Failed to download image. Content-Type is {response.headers['Content-Type']}\")\n"
      ],
      "metadata": {
        "colab": {
          "base_uri": "https://localhost:8080/"
        },
        "id": "RmFSXCJf1A1z",
        "outputId": "d9447f14-eb7b-46b9-c6a6-84fa674b7821"
      },
      "execution_count": 34,
      "outputs": [
        {
          "output_type": "stream",
          "name": "stdout",
          "text": [
            "Image shape: torch.Size([3, 537, 547])\n",
            "Number of channels: 3\n",
            "Image data type: torch.uint8\n",
            "tensor([[[255, 255],\n",
            "         [255, 255]],\n",
            "\n",
            "        [[255, 255],\n",
            "         [255, 255]],\n",
            "\n",
            "        [[255, 255],\n",
            "         [255, 255]]], dtype=torch.uint8)\n"
          ]
        }
      ]
    },
    {
      "cell_type": "code",
      "source": [
        "import matplotlib.pyplot as plt\n",
        "\n",
        "# Convert the tensor to a NumPy array for display\n",
        "img_np = img.permute(1, 2, 0).numpy()  # Change the order from [C, H, W] to [H, W, C]\n",
        "\n",
        "# Display the image using Matplotlib\n",
        "plt.imshow(img_np)\n",
        "plt.axis('off')  # Turn off the axis labels\n",
        "plt.show()"
      ],
      "metadata": {
        "colab": {
          "base_uri": "https://localhost:8080/",
          "height": 406
        },
        "id": "MZ38uMit7mH6",
        "outputId": "28b593b2-b26b-4663-f59d-cfb90e297d3e"
      },
      "execution_count": 36,
      "outputs": [
        {
          "output_type": "display_data",
          "data": {
            "text/plain": [
              "<Figure size 640x480 with 1 Axes>"
            ],
            "image/png": "[encoded data removed]"
          },
          "metadata": {}
        }
      ]
    },
    {
      "cell_type": "markdown",
      "metadata": {
        "id": "7ytLD78rHtKv"
      },
      "source": [
        "### Regularizing a neural network with L2 regularization and dropout\n",
        "\n"
      ]
    },
    {
      "cell_type": "code",
      "execution_count": 152,
      "metadata": {
        "id": "0KP6OEbTHtKv",
        "outputId": "28238760-f08a-4cb7-f1bc-0fddad776c4a",
        "colab": {
          "base_uri": "https://localhost:8080/",
          "height": 329
        }
      },
      "outputs": [
        {
          "output_type": "display_data",
          "data": {
            "text/html": [
              "<img src=\"https://raw.githubusercontent.com/cfteach/NNDL_DATA621/webpage-src/DATA621/DATA621/images/Fig9_lec10.png\" width=\"600\"/>"
            ],
            "text/plain": [
              "<IPython.core.display.Image object>"
            ]
          },
          "metadata": {}
        }
      ],
      "source": [
        "# FIG 9\n",
        "display(Image(url=\"https://raw.githubusercontent.com/cfteach/NNDL_DATA621/webpage-src/DATA621/DATA621/images/Fig9_lec10.png\", width=600))"
      ]
    },
    {
      "cell_type": "code",
      "execution_count": 37,
      "metadata": {
        "id": "T46XOcSQHtKv",
        "colab": {
          "base_uri": "https://localhost:8080/"
        },
        "outputId": "4855e088-4481-44cb-e81d-a5bc5eb72a8e"
      },
      "outputs": [
        {
          "output_type": "stream",
          "name": "stdout",
          "text": [
            "tensor(0.1127, grad_fn=<AddBackward0>)\n"
          ]
        }
      ],
      "source": [
        "import torch.nn as nn\n",
        "loss_func = nn.BCELoss()\n",
        "loss = loss_func(torch.tensor([0.9]), torch.tensor([1.0]))\n",
        "l2_lambda = 0.001\n",
        "\n",
        "conv_layer = nn.Conv2d(in_channels=3, out_channels=5, kernel_size=5)\n",
        "l2_penalty_conv = l2_lambda * sum([(p**2).sum() for p in conv_layer.parameters()])\n",
        "#loss_with_penalty = loss + l2_penalty\n",
        "\n",
        "linear_layer = nn.Linear(10, 16)\n",
        "l2_penalty_linear = l2_lambda * sum([(p**2).sum() for p in linear_layer.parameters()])\n",
        "#loss_with_penalty = loss + l2_penalty\n",
        "total_loss_with_penalty = loss + l2_penalty_conv + l2_penalty_linear\n",
        "print(total_loss_with_penalty)"
      ]
    },
    {
      "cell_type": "code",
      "execution_count": null,
      "metadata": {
        "id": "0pzthOpAHtKx",
        "outputId": "b01fa396-73f5-4448-c514-85931f7c4a00"
      },
      "outputs": [
        {
          "name": "stdout",
          "output_type": "stream",
          "text": [
            "BCE (w Probas): 0.3711\n",
            "BCE (w Logits): 0.3711\n",
            "CCE (w Logits): 0.5996\n",
            "CCE (w Probas): 0.5996\n"
          ]
        }
      ],
      "source": [
        "####### Binary Cross-entropy\n",
        "logits = torch.tensor([0.8])\n",
        "probas = torch.sigmoid(logits)\n",
        "target = torch.tensor([1.0])\n",
        "\n",
        "bce_loss_fn = nn.BCELoss()\n",
        "bce_logits_loss_fn = nn.BCEWithLogitsLoss()\n",
        "\n",
        "print(f'BCE (w Probas): {bce_loss_fn(probas, target):.4f}')\n",
        "print(f'BCE (w Logits): {bce_logits_loss_fn(logits, target):.4f}')\n",
        "\n",
        "\n",
        "####### Categorical Cross-entropy\n",
        "logits = torch.tensor([[1.5, 0.8, 2.1]])\n",
        "probas = torch.softmax(logits, dim=1)\n",
        "target = torch.tensor([2])\n",
        "\n",
        "cce_loss_fn = nn.NLLLoss()\n",
        "cce_logits_loss_fn = nn.CrossEntropyLoss()\n",
        "\n",
        "print(f'CCE (w Logits): {cce_logits_loss_fn(logits, target):.4f}')\n",
        "print(f'CCE (w Probas): {cce_loss_fn(torch.log(probas), target):.4f}')"
      ]
    },
    {
      "cell_type": "markdown",
      "metadata": {
        "id": "E8SjCpDIHtKx"
      },
      "source": [
        "### The multilayer CNN architecture with PyTorch"
      ]
    },
    {
      "cell_type": "code",
      "execution_count": 150,
      "metadata": {
        "id": "63GUoxlkHtKx",
        "outputId": "247544a1-79c2-4490-f46f-0ab5efd029f8",
        "colab": {
          "base_uri": "https://localhost:8080/",
          "height": 203
        }
      },
      "outputs": [
        {
          "output_type": "display_data",
          "data": {
            "text/html": [
              "<img src=\"https://raw.githubusercontent.com/cfteach/NNDL_DATA621/webpage-src/DATA621/DATA621/images/Fig10_lec10.png\" width=\"600\"/>"
            ],
            "text/plain": [
              "<IPython.core.display.Image object>"
            ]
          },
          "metadata": {}
        }
      ],
      "source": [
        "# FIG 10\n",
        "display(Image(url=\"https://raw.githubusercontent.com/cfteach/NNDL_DATA621/webpage-src/DATA621/DATA621/images/Fig10_lec10.png\", width=600))"
      ]
    },
    {
      "cell_type": "markdown",
      "metadata": {
        "id": "v1qMXg8yHtKx"
      },
      "source": [
        "#### Loading and preprocessing the data"
      ]
    },
    {
      "cell_type": "code",
      "source": [
        "import numpy as np\n",
        "import torch\n",
        "import torch.nn as nn\n",
        "#import torch.nn.functional as F\n",
        "import torchvision\n",
        "from torchvision import datasets\n",
        "from torchvision import transforms\n",
        "from torch.utils.data import DataLoader"
      ],
      "metadata": {
        "id": "p81bgWZFh8eM"
      },
      "execution_count": 4,
      "outputs": []
    },
    {
      "cell_type": "code",
      "source": [
        "device = torch.device(\"cuda\" if torch.cuda.is_available() else \"cpu\")\n",
        "print(device)\n",
        "\n",
        "if device.type == 'cuda':\n",
        "    print(torch.cuda.get_device_name(0))\n",
        "else:\n",
        "  print('cpu')"
      ],
      "metadata": {
        "colab": {
          "base_uri": "https://localhost:8080/"
        },
        "id": "HRmQbHJX3Oai",
        "outputId": "9288749a-93ac-4212-a276-89a2be55ce1b"
      },
      "execution_count": 9,
      "outputs": [
        {
          "output_type": "stream",
          "name": "stdout",
          "text": [
            "cuda\n",
            "Tesla T4\n"
          ]
        }
      ]
    },
    {
      "cell_type": "code",
      "execution_count": 10,
      "metadata": {
        "id": "rnkMGKyuHtKy"
      },
      "outputs": [],
      "source": [
        "#import torchvision\n",
        "#from torchvision import transforms\n",
        "image_path = './'  # see root=image_path, which specifies the directory where the dataset will be stored or loaded from.\n",
        "\n",
        "# transforms.Compose is a function that composes several transforms together\n",
        "\n",
        "# transforms.ToTensor() converts a PIL Image or numpy.ndarray (H x W x C) in the range [0, 255]\n",
        "# to a torch.FloatTensor of shape (C x H x W) in the range [0.0, 1.0].\n",
        "# This is necessary as PyTorch models expect inputs to be tensors.\n",
        "\n",
        "transform = transforms.Compose([transforms.ToTensor()])\n",
        "\n",
        "mnist_dataset = torchvision.datasets.MNIST(root=image_path,\n",
        "                                           train=True, # the training set of the MNIST dataset is being requested.\n",
        "                                           transform=transform, # transform=transform applies the transformation defined earlier\n",
        "                                           download=True) # tells the library to download the dataset if it's not available at the specified root\n",
        "\n",
        "\n",
        "from torch.utils.data import Subset\n",
        "\n",
        "# create a validation subset\n",
        "# torch.arange(10000) generates indices from 0 to 9999, selecting the first 10,000 samples from mnist_dataset to be used as validation\n",
        "mnist_valid_dataset = Subset(mnist_dataset, torch.arange(10000))\n",
        "\n",
        "# selects the remaining samples\n",
        "mnist_train_dataset = Subset(mnist_dataset, torch.arange(10000, len(mnist_dataset)))\n",
        "\n",
        "# the test set size is inherently predefined to be 10,000 images, no further specification is needed\n",
        "mnist_test_dataset = torchvision.datasets.MNIST(root=image_path,\n",
        "                                           train=False,\n",
        "                                           transform=transform,\n",
        "                                           download=False)\n"
      ]
    },
    {
      "cell_type": "code",
      "source": [
        "print(len(mnist_train_dataset),len(mnist_valid_dataset),len(mnist_test_dataset))\n",
        "\n",
        "sample_image, sample_label = mnist_train_dataset[0]\n",
        "\n",
        "print(sample_image.shape, sample_label)\n",
        "\n",
        "# consistent NCHW format\n",
        "\n"
      ],
      "metadata": {
        "colab": {
          "base_uri": "https://localhost:8080/"
        },
        "id": "dyLZ3Cpsh2Fr",
        "outputId": "81c136e1-3066-4b17-8c07-bde437b614f9"
      },
      "execution_count": 11,
      "outputs": [
        {
          "output_type": "stream",
          "name": "stdout",
          "text": [
            "50000 10000 10000\n",
            "torch.Size([1, 28, 28]) 3\n"
          ]
        }
      ]
    },
    {
      "cell_type": "code",
      "execution_count": 12,
      "metadata": {
        "id": "3JyMi0XeHtKy"
      },
      "outputs": [],
      "source": [
        "# We construct the data loader with batches of batch_size images for the training set and validation set\n",
        "\n",
        "from torch.utils.data import DataLoader\n",
        "\n",
        "\n",
        "batch_size = 64\n",
        "torch.manual_seed(1)\n",
        "train_dl = DataLoader(mnist_train_dataset, batch_size, shuffle=True)\n",
        "valid_dl = DataLoader(mnist_valid_dataset, batch_size, shuffle=False) #Why?\n",
        "\n"
      ]
    },
    {
      "cell_type": "markdown",
      "metadata": {
        "id": "9P611HyZHtKy"
      },
      "source": [
        "\n",
        "#### Configuring CNN layers in PyTorch\n",
        "\n",
        " * **Conv2d:** `torch.nn.Conv2d`\n",
        "   * `out_channels`\n",
        "   * `kernel_size`\n",
        "   * `stride`\n",
        "   * `padding`\n",
        "   \n",
        "   \n",
        " * **MaxPool2d:** `torch.nn.MaxPool2d`\n",
        "   * `kernel_size`\n",
        "   * `stride`\n",
        "   * `padding`\n",
        "   \n",
        "   \n",
        " * **Dropout** `torch.nn.Dropout`\n",
        "   * `p`"
      ]
    },
    {
      "cell_type": "markdown",
      "metadata": {
        "id": "O6WFU4NLHtKz"
      },
      "source": [
        "### Constructing a CNN in PyTorch"
      ]
    },
    {
      "cell_type": "code",
      "execution_count": 13,
      "metadata": {
        "id": "RaggavFjHtKz"
      },
      "outputs": [],
      "source": [
        "model = nn.Sequential()\n",
        "model.add_module('conv1', nn.Conv2d(in_channels=1, out_channels=32, kernel_size=5, padding=2))\n",
        "model.add_module('relu1', nn.ReLU())\n",
        "model.add_module('pool1', nn.MaxPool2d(kernel_size=2)) #if stride=None, default is kernel_size\n",
        "model.add_module('conv2', nn.Conv2d(in_channels=32, out_channels=64, kernel_size=5, padding=2))\n",
        "model.add_module('relu2', nn.ReLU())\n",
        "model.add_module('pool2', nn.MaxPool2d(kernel_size=2))"
      ]
    },
    {
      "cell_type": "code",
      "source": [
        "# PyTorch provides a convenient method to compute the size of the feature map for us\n",
        "\n",
        "x = torch.ones((4, 1, 28, 28))\n",
        "model(x).shape"
      ],
      "metadata": {
        "colab": {
          "base_uri": "https://localhost:8080/"
        },
        "id": "FBoq-2HSos6y",
        "outputId": "4e5e6e5a-435b-472c-d52d-6cab483e75e6"
      },
      "execution_count": 14,
      "outputs": [
        {
          "output_type": "execute_result",
          "data": {
            "text/plain": [
              "torch.Size([4, 64, 7, 7])"
            ]
          },
          "metadata": {},
          "execution_count": 14
        }
      ]
    },
    {
      "cell_type": "code",
      "execution_count": 16,
      "metadata": {
        "id": "CUOjSFd6HtK0",
        "outputId": "1e81fa67-ad40-4357-87a2-e5fb7aeb0348",
        "colab": {
          "base_uri": "https://localhost:8080/"
        }
      },
      "outputs": [
        {
          "output_type": "execute_result",
          "data": {
            "text/plain": [
              "torch.Size([4, 3136])"
            ]
          },
          "metadata": {},
          "execution_count": 16
        }
      ],
      "source": [
        "model.add_module('flatten', nn.Flatten())\n",
        "\n",
        "x = torch.ones((4, 1, 28, 28))\n",
        "model(x).shape"
      ]
    },
    {
      "cell_type": "code",
      "execution_count": 17,
      "metadata": {
        "id": "Fvcmknr4HtK0"
      },
      "outputs": [],
      "source": [
        "model.add_module('fc1', nn.Linear(3136, 1024))\n",
        "model.add_module('relu3', nn.ReLU())\n",
        "model.add_module('dropout', nn.Dropout(p=0.5))\n",
        "\n",
        "# --- Why dropout here?\n",
        "# Earlier (e.g., right before relu3) application of dropout might lead to underfitting since ReLU turns all negative values to zero\n",
        "# Dropout early in deep networks can severely limit the amount of learnable information,\n",
        "# while dropout late in the network should be tuned to avoid overly damping the outputs (over-regularization).\n",
        "# After ReLU and in middle layers.\n",
        "\n",
        "model.add_module('fc2', nn.Linear(1024, 10))"
      ]
    },
    {
      "cell_type": "code",
      "execution_count": 18,
      "metadata": {
        "id": "-cLyWPAgHtK0"
      },
      "outputs": [],
      "source": [
        "device = torch.device(\"cuda:0\")\n",
        "# device = torch.device(\"cpu\")\n",
        "\n",
        "model = model.to(device)"
      ]
    },
    {
      "cell_type": "code",
      "execution_count": 19,
      "metadata": {
        "id": "_0_vdayJHtK0",
        "outputId": "b173cb2b-301d-4a42-f4a0-caf3a13ab6a3",
        "colab": {
          "base_uri": "https://localhost:8080/"
        }
      },
      "outputs": [
        {
          "output_type": "stream",
          "name": "stdout",
          "text": [
            "Epoch 1 accuracy: 0.9501 val_accuracy: 0.9805\n",
            "Epoch 2 accuracy: 0.9840 val_accuracy: 0.9858\n",
            "Epoch 3 accuracy: 0.9891 val_accuracy: 0.9849\n",
            "Epoch 4 accuracy: 0.9918 val_accuracy: 0.9907\n",
            "Epoch 5 accuracy: 0.9932 val_accuracy: 0.9900\n",
            "Epoch 6 accuracy: 0.9944 val_accuracy: 0.9892\n",
            "Epoch 7 accuracy: 0.9948 val_accuracy: 0.9911\n",
            "Epoch 8 accuracy: 0.9961 val_accuracy: 0.9905\n",
            "Epoch 9 accuracy: 0.9968 val_accuracy: 0.9883\n",
            "Epoch 10 accuracy: 0.9963 val_accuracy: 0.9907\n",
            "Epoch 11 accuracy: 0.9975 val_accuracy: 0.9887\n",
            "Epoch 12 accuracy: 0.9970 val_accuracy: 0.9891\n",
            "Epoch 13 accuracy: 0.9967 val_accuracy: 0.9908\n",
            "Epoch 14 accuracy: 0.9974 val_accuracy: 0.9905\n",
            "Epoch 15 accuracy: 0.9983 val_accuracy: 0.9917\n",
            "Epoch 16 accuracy: 0.9982 val_accuracy: 0.9920\n",
            "Epoch 17 accuracy: 0.9979 val_accuracy: 0.9921\n",
            "Epoch 18 accuracy: 0.9985 val_accuracy: 0.9906\n",
            "Epoch 19 accuracy: 0.9981 val_accuracy: 0.9919\n",
            "Epoch 20 accuracy: 0.9985 val_accuracy: 0.9909\n"
          ]
        }
      ],
      "source": [
        "loss_fn = nn.CrossEntropyLoss()\n",
        "optimizer = torch.optim.Adam(model.parameters(), lr=0.001)\n",
        "\n",
        "def train(model, num_epochs, train_dl, valid_dl):\n",
        "    loss_hist_train = [0] * num_epochs\n",
        "    accuracy_hist_train = [0] * num_epochs\n",
        "    loss_hist_valid = [0] * num_epochs\n",
        "    accuracy_hist_valid = [0] * num_epochs\n",
        "    for epoch in range(num_epochs):\n",
        "        model.train()\n",
        "        for x_batch, y_batch in train_dl:\n",
        "            x_batch = x_batch.to(device)\n",
        "            y_batch = y_batch.to(device)\n",
        "            pred = model(x_batch)\n",
        "            loss = loss_fn(pred, y_batch)\n",
        "            loss.backward()\n",
        "            optimizer.step()\n",
        "            optimizer.zero_grad()\n",
        "            loss_hist_train[epoch] += loss.item()*y_batch.size(0)\n",
        "            is_correct = (torch.argmax(pred, dim=1) == y_batch).float()\n",
        "            accuracy_hist_train[epoch] += is_correct.sum().cpu()\n",
        "\n",
        "        loss_hist_train[epoch] /= len(train_dl.dataset)\n",
        "        accuracy_hist_train[epoch] /= len(train_dl.dataset)\n",
        "\n",
        "        # model.eval() is a built-in method inherited from nn.Module used to set the model to evaluation mode\n",
        "        model.eval()\n",
        "        with torch.no_grad():\n",
        "            for x_batch, y_batch in valid_dl:\n",
        "                x_batch = x_batch.to(device)\n",
        "                y_batch = y_batch.to(device)\n",
        "                pred = model(x_batch)\n",
        "                loss = loss_fn(pred, y_batch)\n",
        "                loss_hist_valid[epoch] += loss.item()*y_batch.size(0)\n",
        "                is_correct = (torch.argmax(pred, dim=1) == y_batch).float()\n",
        "                accuracy_hist_valid[epoch] += is_correct.sum().cpu()\n",
        "\n",
        "        loss_hist_valid[epoch] /= len(valid_dl.dataset)\n",
        "        accuracy_hist_valid[epoch] /= len(valid_dl.dataset)\n",
        "\n",
        "        print(f'Epoch {epoch+1} accuracy: {accuracy_hist_train[epoch]:.4f} val_accuracy: {accuracy_hist_valid[epoch]:.4f}')\n",
        "    return loss_hist_train, loss_hist_valid, accuracy_hist_train, accuracy_hist_valid\n",
        "\n",
        "torch.manual_seed(1)\n",
        "num_epochs = 20\n",
        "hist = train(model, num_epochs, train_dl, valid_dl)"
      ]
    },
    {
      "cell_type": "code",
      "execution_count": 20,
      "metadata": {
        "id": "Anfvi3lKHtK1",
        "outputId": "662dbc88-1e38-432e-f206-0c0e7be44bfb",
        "colab": {
          "base_uri": "https://localhost:8080/",
          "height": 395
        }
      },
      "outputs": [
        {
          "output_type": "display_data",
          "data": {
            "text/plain": [
              "<Figure size 1200x400 with 2 Axes>"
            ],
            "image/png": "[encoded data removed]"
          },
          "metadata": {}
        }
      ],
      "source": [
        "import matplotlib.pyplot as plt\n",
        "\n",
        "\n",
        "x_arr = np.arange(len(hist[0])) + 1  # number of epochs\n",
        "\n",
        "fig = plt.figure(figsize=(12, 4))\n",
        "\n",
        "ax = fig.add_subplot(1, 2, 1)\n",
        "ax.plot(x_arr, hist[0], '-o', label='Train loss')\n",
        "ax.plot(x_arr, hist[1], '--<', label='Validation loss')\n",
        "ax.set_xlabel('Epoch', size=15)\n",
        "ax.set_ylabel('Loss', size=15)\n",
        "ax.legend(fontsize=15)\n",
        "\n",
        "ax = fig.add_subplot(1, 2, 2)\n",
        "ax.plot(x_arr, hist[2], '-o', label='Train acc.')\n",
        "ax.plot(x_arr, hist[3], '--<', label='Validation acc.')\n",
        "ax.legend(fontsize=15)\n",
        "ax.set_xlabel('Epoch', size=15)\n",
        "ax.set_ylabel('Accuracy', size=15)\n",
        "\n",
        "plt.show()"
      ]
    },
    {
      "cell_type": "code",
      "execution_count": 46,
      "metadata": {
        "id": "gsp5YslkHtK1",
        "outputId": "6427d4a2-ccd2-4165-e0fe-8eefe2c27326",
        "colab": {
          "base_uri": "https://localhost:8080/"
        }
      },
      "outputs": [
        {
          "output_type": "stream",
          "name": "stdout",
          "text": [
            "Test accuracy: 0.9926\n"
          ]
        }
      ],
      "source": [
        "# cuda.synchronize()\n",
        "# It is used to synchronize all CUDA operations.\n",
        "# When you are running PyTorch on a GPU, operations are often asynchronous for efficiency.\n",
        "# It ensures that all preceding CUDA operations are finished before moving on, important before switching from GPU to CPU.\n",
        "\n",
        "torch.cuda.synchronize()\n",
        "\n",
        "# moves the model from the GPU to the CPU.\n",
        "model_cpu = model.cpu()\n",
        "\n",
        "\n",
        "#pred = model(mnist_test_dataset.data.unsqueeze(1).float()) #.unsqueeze(1)/ 255.\n",
        "pred = model(mnist_test_dataset.data.unsqueeze(1)/255.)\n",
        "\n",
        "is_correct = (torch.argmax(pred, dim=1) == mnist_test_dataset.targets).float()\n",
        "print(f'Test accuracy: {is_correct.mean():.4f}')\n"
      ]
    },
    {
      "cell_type": "code",
      "source": [
        "print(mnist_test_dataset.data.shape)\n",
        "print(mnist_test_dataset.data.unsqueeze(1).shape)\n",
        "#mnist_test_dataset.data[0]"
      ],
      "metadata": {
        "colab": {
          "base_uri": "https://localhost:8080/"
        },
        "id": "5l1P5i1f5utk",
        "outputId": "d2e0d075-7e07-4ebf-c69e-770f06574f2f"
      },
      "execution_count": 50,
      "outputs": [
        {
          "output_type": "stream",
          "name": "stdout",
          "text": [
            "torch.Size([10000, 28, 28])\n",
            "torch.Size([10000, 1, 28, 28])\n"
          ]
        }
      ]
    },
    {
      "cell_type": "code",
      "execution_count": 72,
      "metadata": {
        "id": "FjxoS6oMHtK1",
        "outputId": "5b147bb9-e466-411c-e8d8-631e1229d709",
        "colab": {
          "base_uri": "https://localhost:8080/",
          "height": 398
        }
      },
      "outputs": [
        {
          "output_type": "display_data",
          "data": {
            "text/plain": [
              "<Figure size 1200x400 with 12 Axes>"
            ],
            "image/png": "[encoded data removed]"
          },
          "metadata": {}
        }
      ],
      "source": [
        "fig = plt.figure(figsize=(12, 4))\n",
        "for i in range(12):\n",
        "    ax = fig.add_subplot(2, 6, i+1)\n",
        "    ax.set_xticks([]); ax.set_yticks([])\n",
        "    img, true_label = mnist_test_dataset[i]\n",
        "    img = img[0, :, :]  # Get the 2D image data from the tensor\n",
        "    #img = mnist_test_dataset[i][0][0, :, :]   # mnist_test_dataset[i] contain image (tensor) and target (int)\n",
        "    pred = model(img.unsqueeze(0).unsqueeze(1)) # unsqueeze adds a new dimension to a tensor at a specified position\n",
        "\n",
        "    y_pred = torch.argmax(pred)\n",
        "    ax.imshow(img, cmap='gray_r')\n",
        "\n",
        "    # Add both predicted and ground truth labels to the plot\n",
        "    ax.text(0.5, -0.2, f'Pred: {y_pred.item()}', size=12, color='blue',\n",
        "            horizontalalignment='center', verticalalignment='center', transform=ax.transAxes)\n",
        "    ax.text(0.5, -0.35, f'True: {true_label}', size=12, color='red',\n",
        "            horizontalalignment='center', verticalalignment='center', transform=ax.transAxes)\n",
        "\n",
        "# Adjust vertical spacing between rows (increase hspace)\n",
        "plt.subplots_adjust(hspace=0.5)  # Increase space between rows (default is 0.2)\n",
        "\n",
        "\n",
        "plt.show()"
      ]
    },
    {
      "cell_type": "markdown",
      "source": [
        "### Randomly select an image, rotate, and make prediction"
      ],
      "metadata": {
        "id": "P1q5euiJAcBw"
      }
    },
    {
      "cell_type": "code",
      "source": [
        "import random\n",
        "import torchvision.transforms.functional as TF\n",
        "\n",
        "# Randomly select an image from the MNIST test dataset\n",
        "random_idx = random.randint(0, len(mnist_test_dataset) - 1)  # Select a random index\n",
        "img, true_label = mnist_test_dataset[random_idx]  # Get the image and true label\n",
        "img = img.unsqueeze(0)  # Add batch dimension [1, 1, 28, 28]\n",
        "\n",
        "# Rotate the image by a random angle\n",
        "angle = random.uniform(-45, 45)  # Choose a random angle between -90 and 90 degrees\n",
        "rotated_img = TF.rotate(img, angle)  # Rotate the image\n",
        "\n",
        "# Make a prediction with the rotated image\n",
        "pred = model(rotated_img)  # Run through the model\n",
        "y_pred = torch.argmax(pred)  # Get the predicted label\n",
        "\n",
        "# Plot the rotated image and show both the prediction and the true label\n",
        "fig, ax = plt.subplots()\n",
        "ax.set_xticks([]); ax.set_yticks([])\n",
        "\n",
        "# Display the rotated image\n",
        "ax.imshow(rotated_img.squeeze(), cmap='gray_r')\n",
        "\n",
        "# Show predicted and true labels\n",
        "ax.text(0.5, -0.1, f'Pred: {y_pred.item()}, True: {true_label}', size=15, color='blue',\n",
        "        horizontalalignment='center', verticalalignment='center', transform=ax.transAxes)\n",
        "\n",
        "plt.show()\n",
        "\n",
        "print(f\"angle: {angle:1.2f}\")"
      ],
      "metadata": {
        "colab": {
          "base_uri": "https://localhost:8080/",
          "height": 470
        },
        "id": "DbAMI5UF9kbg",
        "outputId": "99f0e60e-e522-42e0-e959-959a32f91aea"
      },
      "execution_count": 144,
      "outputs": [
        {
          "output_type": "display_data",
          "data": {
            "text/plain": [
              "<Figure size 640x480 with 1 Axes>"
            ],
            "image/png": "[encoded data removed]"
          },
          "metadata": {}
        },
        {
          "output_type": "stream",
          "name": "stdout",
          "text": [
            "angle: -15.84\n"
          ]
        }
      ]
    },
    {
      "cell_type": "markdown",
      "source": [
        "### Add an extra convolutional layer"
      ],
      "metadata": {
        "id": "0D5IwvW7Arr0"
      }
    },
    {
      "cell_type": "markdown",
      "source": [
        "Can you add to the prior model, before flattening, an extra convolutional layer 5x5x128? Please adjust the two FC layers to match the new dimensions."
      ],
      "metadata": {
        "id": "BaNATgIbB9GH"
      }
    }
  ],
  "metadata": {
    "kernelspec": {
      "display_name": "Python 3",
      "name": "python3"
    },
    "language_info": {
      "codemirror_mode": {
        "name": "ipython",
        "version": 3
      },
      "file_extension": ".py",
      "mimetype": "text/x-python",
      "name": "python",
      "nbconvert_exporter": "python",
      "pygments_lexer": "ipython3",
      "version": "3.10.12"
    },
    "colab": {
      "provenance": [],
      "gpuType": "T4"
    },
    "accelerator": "GPU"
  },
  "nbformat": 4,
  "nbformat_minor": 0
}